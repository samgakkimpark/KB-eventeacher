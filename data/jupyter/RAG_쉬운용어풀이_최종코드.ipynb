{
 "cells": [
  {
   "cell_type": "code",
   "execution_count": 1,
   "id": "671de495-0a68-4a54-b9b4-6e9e7b06f073",
   "metadata": {},
   "outputs": [],
   "source": [
    "#!pip install langchain\n",
    "#!pip install langchain_community\n",
    "#!pip install chromadb\n",
    "#!pip install langchain-openai"
   ]
  },
  {
   "cell_type": "code",
   "execution_count": 1,
   "id": "59defac9-a9d5-4095-a5ad-f6404efb8487",
   "metadata": {},
   "outputs": [
    {
     "name": "stderr",
     "output_type": "stream",
     "text": [
      "USER_AGENT environment variable not set, consider setting it to identify your requests.\n"
     ]
    }
   ],
   "source": [
    "import pandas as pd\n",
    "import certifi\n",
    "import urllib3\n",
    "import warnings\n",
    "import os\n",
    "import openai\n",
    "\n",
    "from langchain.text_splitter import RecursiveCharacterTextSplitter\n",
    "from langchain_community.document_loaders import WebBaseLoader\n",
    "\n",
    "from langchain_openai import ChatOpenAI\n",
    "from langchain_core.prompts import ChatPromptTemplate\n",
    "from langchain_core.runnables import RunnablePassthrough\n",
    "from langchain_core.output_parsers import StrOutputParser\n",
    "\n",
    "from langchain.embeddings.openai import OpenAIEmbeddings\n",
    "from langchain.vectorstores import Chroma\n",
    "\n",
    "import pyface\n",
    "import importlib_resources\n",
    "from langchain.embeddings.openai import OpenAIEmbeddings\n",
    "#from langchain_openai import OpenAIEmbeddings\n",
    "from langchain.vectorstores import Chroma"
   ]
  },
  {
   "cell_type": "code",
   "execution_count": 4,
   "id": "314c47f0-52ab-4067-8c4d-12aef4d3308d",
   "metadata": {},
   "outputs": [],
   "source": [
    "#KB 이벤트 웹데이터\n",
    "web_data = pd.read_csv('/Users/parkjungeun/DML_crawling/KB_공모전/df_emb_total_2.csv', sep=',', dtype = str)\n",
    "\n",
    "result = [x for x in web_data['알아두세요']]\n",
    "docs = result\n",
    "#print(docs)\n",
    "\n",
    "#텍스트 분할\n",
    "text_splitter = RecursiveCharacterTextSplitter(chunk_size=1000, chunk_overlap=200)\n",
    "splited_docs = text_splitter.create_documents(docs) #.split_documents\n",
    "#print(len(splited_docs))\n",
    "#print(splited_docs[10].page_content)\n",
    "\n",
    "os.environ[\"OPENAI_API_KEY\"] = \"sk-proj-AO3KelC1emoiTrtYed3jT3BlbkFJVuDMTmSkpm2J4S7me2nO\"\n",
    "\n",
    "#임베딩\n",
    "vectorstore = Chroma.from_documents(documents = splited_docs, embedding=OpenAIEmbeddings())\n",
    "\n",
    "prompt_template = '''\n",
    "Answer the question base on the following contxt:\n",
    "{context}\n",
    "\n",
    "question : {question}\n",
    "'''\n",
    "\n",
    "prompt = ChatPromptTemplate.from_template(prompt_template)\n",
    "model = ChatOpenAI(model='gpt-3.5-turbo-0125', temperature=0)\n",
    "\n",
    "retriever = vectorstore.as_retriever()"
   ]
  },
  {
   "cell_type": "code",
   "execution_count": 9,
   "id": "a97dcd8c-718e-4cd5-bde0-45563356e42d",
   "metadata": {},
   "outputs": [
    {
     "name": "stdout",
     "output_type": "stream",
     "text": [
      "{\n",
      "  \"집합투자상품\": \"여러 투자자들이 자금을 모아 운용하는 상품\",\n",
      "  \"신탁계약\": \"자산을 신탁사에 맡겨 운용하거나 관리하는 계약\",\n",
      "  \"예금자보호법\": \"예금자의 이자와 원금을 보호하는 법\",\n",
      "  \"예금보험공사\": \"은행 파산 시 예금자의 예금을 보호하는 공사\",\n",
      "  \"보호한도\": \"예금자가 보호받을 수 있는 최대 금액\",\n",
      "  \"이자\": \"돈을 빌려준 대가로 받는 금전적 이득\",\n",
      "  \"이벤트\": \"특정 기간 동안 진행되는 행사 또는 행사 상품\",\n",
      "  \"경품\": \"이벤트에서 제공되는 상품 또는 혜택\",\n",
      "  \"상품설명서\": \"금융 상품의 세부 내용과 조건을 설명하는 문서\",\n",
      "  \"약관\": \"금융 상품 이용 시의 규정과 조건\",\n",
      "  \"고객센터\": \"고객 문의 및 서비스 제공을 위한 전화 상담 센터\",\n",
      "  \"준법감시인\": \"금융기관의 법규 준수를 감독하는 기관\",\n",
      "  \"연금\": \"일정 기간 동안 정기적으로 지급되는 소득\",\n",
      "  \"수수료\": \"서비스나 거래에 대한 대가로 받는 금액\",\n",
      "  \"우대금리\": \"특정 조건을 충족할 시 적용되는 우대 이자율\"\n",
      "}\n"
     ]
    }
   ],
   "source": [
    "# Combine Documents\n",
    "def format_docs(docs):\n",
    "    return '\\n\\n'.join(doc.page_content for doc in docs)\n",
    "\n",
    "#Chain 연결\n",
    "chain = (\n",
    "    {'context' : retriever | format_docs, 'question':RunnablePassthrough()}\n",
    "     | prompt\n",
    "     | model\n",
    "     | StrOutputParser()\n",
    ")\n",
    "\n",
    "answer = chain.invoke(\"KB이벤트 내에서 '집합투자상품','신탁계약','예금자보호법'과 같은 어려운 금융 용어를 15개 뽑아주고 각 용어에 대한 결과를 단어 key, 해석 value json형식으로 보여줘.\")\n",
    "print(answer)"
   ]
  },
  {
   "cell_type": "code",
   "execution_count": null,
   "id": "100f5520-1313-4078-91c5-23bd1aac60ea",
   "metadata": {},
   "outputs": [],
   "source": [
    "#file_path = '/Users/parkjungeun/Downloads/output_50.txt'\n",
    "\n",
    "#with open(file_path, \"w\") as file:\n",
    "    #file.write(answer)"
   ]
  }
 ],
 "metadata": {
  "kernelspec": {
   "display_name": "Python 3 (ipykernel)",
   "language": "python",
   "name": "python3"
  },
  "language_info": {
   "codemirror_mode": {
    "name": "ipython",
    "version": 3
   },
   "file_extension": ".py",
   "mimetype": "text/x-python",
   "name": "python",
   "nbconvert_exporter": "python",
   "pygments_lexer": "ipython3",
   "version": "3.9.16"
  }
 },
 "nbformat": 4,
 "nbformat_minor": 5
}
