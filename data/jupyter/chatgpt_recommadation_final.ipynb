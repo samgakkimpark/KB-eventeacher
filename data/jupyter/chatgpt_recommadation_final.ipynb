{
  "cells": [
    {
      "cell_type": "code",
      "execution_count": 107,
      "id": "r75C5134hQfb",
      "metadata": {
        "colab": {
          "base_uri": "https://localhost:8080/"
        },
        "id": "r75C5134hQfb",
        "outputId": "2d6e7863-3a4e-4240-c6cb-e00b84ccba5c"
      },
      "outputs": [
        {
          "name": "stdout",
          "output_type": "stream",
          "text": [
            "Drive already mounted at /content/drive; to attempt to forcibly remount, call drive.mount(\"/content/drive\", force_remount=True).\n",
            "/content/drive/MyDrive/Colab Notebooks/Kb model\n"
          ]
        }
      ],
      "source": [
        "# from google.colab import drive\n",
        "# drive.mount('/content/drive')\n",
        "# %cd /content/drive/MyDrive/Colab Notebooks/Kb model"
      ]
    },
    {
      "cell_type": "code",
      "execution_count": 108,
      "id": "uihMeD8AiuWz",
      "metadata": {
        "id": "uihMeD8AiuWz"
      },
      "outputs": [],
      "source": [
        "# !pip install openai\n",
        "# !pip install sentence_transformers\n",
        "# !pip install python-dotenv\n",
        "# !pip install python-multipart\n",
        "# !pip install pytesseract"
      ]
    },
    {
      "cell_type": "markdown",
      "id": "66fc172f",
      "metadata": {},
      "source": [
        "git fetch origin\n",
        "git checkout 21-featuregpt_recommandation_wcustomer"
      ]
    },
    {
      "cell_type": "code",
      "execution_count": 1,
      "id": "c6bf1636-8223-44ca-ba45-76f14d5b73f7",
      "metadata": {
        "id": "c6bf1636-8223-44ca-ba45-76f14d5b73f7"
      },
      "outputs": [
        {
          "name": "stderr",
          "output_type": "stream",
          "text": [
            "/var/folders/10/1jlz9hbj355b5ysnf08kr7nw0000gn/T/ipykernel_84269/1466827135.py:24: TqdmWarning: IProgress not found. Please update jupyter and ipywidgets. See https://ipywidgets.readthedocs.io/en/stable/user_install.html\n",
            "  from tqdm.autonotebook import tqdm, trange\n"
          ]
        }
      ],
      "source": [
        "import random\n",
        "import json\n",
        "import pandas as pd\n",
        "import numpy as np\n",
        "from ast import literal_eval\n",
        "from typing import List\n",
        "\n",
        "import openai\n",
        "import os\n",
        "import sys\n",
        "from dotenv import load_dotenv\n",
        "\n",
        "from urllib import request\n",
        "from urllib.request import Request, urlopen\n",
        "from PIL import Image\n",
        "import pytesseract\n",
        "from io import BytesIO\n",
        "\n",
        "from ast import literal_eval\n",
        "import re\n",
        "from tqdm.notebook import tqdm\n",
        "\n",
        "import torch\n",
        "from tqdm.autonotebook import tqdm, trange\n",
        "from sentence_transformers import SentenceTransformer, util\n",
        "import json\n",
        "\n",
        "from openai import OpenAI\n",
        "OPENAI_API_KEY = \"sk-proj-AO3KelC1emoiTrtYed3jT3BlbkFJVuDMTmSkpm2J4S7me2nO\"\n",
        "client = OpenAI(\n",
        "  api_key=OPENAI_API_KEY\n",
        ")"
      ]
    },
    {
      "cell_type": "markdown",
      "id": "9dea3bfc-ada0-43b2-9e9d-5c402bdc48d9",
      "metadata": {
        "id": "9dea3bfc-ada0-43b2-9e9d-5c402bdc48d9"
      },
      "source": [
        "### 1. df_emb_total_2.csv : 데이터 전처리, Embedding vector 추출 완료된 데이터 파일"
      ]
    },
    {
      "cell_type": "markdown",
      "id": "EKlRxVY1pacF",
      "metadata": {
        "id": "EKlRxVY1pacF"
      },
      "source": [
        "### 데이터 로드"
      ]
    },
    {
      "cell_type": "code",
      "execution_count": 2,
      "id": "wPNsyk8G2jXB",
      "metadata": {
        "id": "wPNsyk8G2jXB"
      },
      "outputs": [],
      "source": [
        "# Load the JSON data into a variable named 'customer_data' to avoid overwriting\n",
        "with open('output2.json', 'r', encoding='utf-8') as f:\n",
        "    customer_data = json.load(f)\n",
        "\n",
        "# JSON 데이터를 id를 키로 사용하는 딕셔너리로 변환\n",
        "customer_dict = {customer['id']: customer for customer in customer_data}"
      ]
    },
    {
      "cell_type": "code",
      "execution_count": 3,
      "id": "0c33e94a-5f46-48eb-80b2-2eb1ed2bbc94",
      "metadata": {
        "id": "0c33e94a-5f46-48eb-80b2-2eb1ed2bbc94"
      },
      "outputs": [],
      "source": [
        "df = pd.read_csv('./all_events_data.csv', sep = ',', dtype = str, engine='python', on_bad_lines='skip')\n",
        "df['openai_emb'] = df['openai_emb'].apply(lambda x: literal_eval(x))"
      ]
    },
    {
      "cell_type": "markdown",
      "id": "NdJyAkUBpo0y",
      "metadata": {
        "id": "NdJyAkUBpo0y"
      },
      "source": [
        "### 2. 다음 코드부터는 코사인 유사도 구현 후 chatgpt 이용해서 프롬프트 구현까지 진행"
      ]
    },
    {
      "cell_type": "code",
      "execution_count": 5,
      "id": "faeb4970-a72c-46f8-aef0-fe8e7c617095",
      "metadata": {
        "id": "faeb4970-a72c-46f8-aef0-fe8e7c617095"
      },
      "outputs": [],
      "source": [
        "def get_query_sim_top_k(query, top_k):\n",
        "    openai_model = 'text-embedding-ada-002'\n",
        "    query_encode = client.embeddings.create(model = openai_model, input=query)\n",
        "    query_encode = query_encode.data[0].embedding\n",
        "    cos_scores = util.pytorch_cos_sim(query_encode, df['openai_emb'])[0]\n",
        "    top_results = torch.topk(cos_scores, k=top_k)\n",
        "    print(top_results)\n",
        "\n",
        "    top_result_id = top_results.indices.tolist()\n",
        "    top_result_score = top_results.values.tolist()\n",
        "\n",
        "    result_df = df[df.index.isin(top_result_id)]\n",
        "    result_df.index = top_result_id\n",
        "    result_df['score'] = top_result_score\n",
        "    answer = result_df[['score','번호','제목', '이벤트 기간', 'img', 'img_text']]\n",
        "\n",
        "    return top_results #answer"
      ]
    },
    {
      "cell_type": "markdown",
      "id": "eb72251c-348f-4ba0-abe2-a910517936c3",
      "metadata": {
        "id": "eb72251c-348f-4ba0-abe2-a910517936c3"
      },
      "source": [
        "### 3. Prompt 설정"
      ]
    },
    {
      "cell_type": "code",
      "execution_count": 10,
      "id": "6fe782b3-3d18-436d-89d7-9c6db0c6f434",
      "metadata": {
        "id": "6fe782b3-3d18-436d-89d7-9c6db0c6f434"
      },
      "outputs": [],
      "source": [
        "#user_msg_history = []\n",
        "def get_chatgpt_msg(msg):\n",
        "    response = client.chat.completions.create(\n",
        "                    model=\"gpt-3.5-turbo\",\n",
        "                    messages=msg\n",
        "                    )\n",
        "    return response.choices[0].message.content\n",
        "\n",
        "def set_prompt(intent, query, msg_prompt_init):\n",
        "    '''prompt 형태를 만들어주는 함수'''\n",
        "    m = dict()\n",
        "    # 검색 또는 추천이면\n",
        "    if ('recom' in intent) or ('search' in intent):\n",
        "        msg = msg_prompt_init['recom'] # 시스템 메세지를 가지고오고\n",
        "    # 설명문이면\n",
        "    elif 'desc' in intent:\n",
        "        msg = msg_prompt_init['desc'] # 시스템 메세지를 가지고오고\n",
        "    # intent 파악\n",
        "    else:\n",
        "        msg = msg_prompt_init['intent']\n",
        "        msg['user'] += f' {query} \\n A:'\n",
        "    for k, v in msg.items():\n",
        "        m['role'], m['content'] = k, v\n",
        "    return [m]"
      ]
    },
    {
      "cell_type": "code",
      "execution_count": 13,
      "id": "a0d64166-2fa4-4314-b2a5-a04543044939",
      "metadata": {
        "id": "a0d64166-2fa4-4314-b2a5-a04543044939"
      },
      "outputs": [],
      "source": [
        "def recommend_result(query):\n",
        "    user_msg_history = []\n",
        "    msg_prompt_init = {\n",
        "        'recom' : {\n",
        "                    'system' : \"당신은 사용자의 질문에 따라 은행 이벤트를 추천하는 유용한 도우미입니다.\",\n",
        "                    'user' : \"'물론이죠!'로 시작하는 간단한 인사말을 한 문장씩 작성해 보세요. 사용자에게 은행 이벤트 항목을 추천합니다.\",\n",
        "                  },\n",
        "        'desc' : {\n",
        "                    'system' : \"당신은 친절하게 답변해주시는 유용한 도우미입니다.\",\n",
        "                    'user' : \"사용자에게 해당 항목을 설명하기 위해 '물론이죠!'로 시작하는 간단한 인사말을 작성해주세요.\",\n",
        "                  },\n",
        "        'intent' : {\n",
        "                    'system' : \"당신은 사용자의 질문 의도를 이해하는 유용한 도우미입니다.\",\n",
        "                    'user' : \"다음 문장은 '설명', '추천', '검색' 중 어떤 카테고리에 속합니까? 카테고리만 표시합니다. \\n content:\"\n",
        "                    }\n",
        "    }\n",
        "\n",
        "\n",
        "    # 1. 사용자의 의도를 파악\n",
        "    user_intent = set_prompt('intent', query, msg_prompt_init)\n",
        "    user_intent = get_chatgpt_msg(user_intent)\n",
        "    #print(\"user_intent : \", user_intent)\n",
        "\n",
        "    # 2. 사용자의 쿼리에 따라 prompt 생성\n",
        "    intent_data = set_prompt(user_intent, query, msg_prompt_init)\n",
        "    intent_data_msg = get_chatgpt_msg(intent_data).replace(\"\\n\", \"\").strip()\n",
        "    #print(\"intent_data_msg : \", intent_data_msg)\n",
        "\n",
        "    # 3. 추천 또는 검색이면\n",
        "    if ('추천' in user_intent) or ('검색' in user_intent):\n",
        "        recom_msg = str()\n",
        "        # 기존에 메세지가 있으면 쿼리로 대체\n",
        "        if (len(user_msg_history) > 0 ) and (user_msg_history[-1]['role'] == 'assistant'):\n",
        "            query = user_msg_history[-1]['content']['feature']\n",
        "\n",
        "        # 유사 아이템 top_k = 3개 가져오기\n",
        "        top_result = get_query_sim_top_k(query, top_k=3)\n",
        "\n",
        "        # 검색이면, 자기 자신의 컨텐츠는 제외\n",
        "        top_index = top_result[1].numpy() #if '추천' in user_intent else top_result[1].numpy()[1:]\n",
        "\n",
        "        # '번호','제목', '이벤트 기간', 'img', 'img_text'를 가져와서 출력\n",
        "        r_set_d = df.iloc[top_index, :][['번호','제목', '이벤트 기간', '알아두세요', 'img', 'img_text']]\n",
        "        r_set_d = r_set_d.rename(columns = {'번호':'event_id', '제목':'event_title', '이벤트 기간':'event_period',\n",
        "                                            '알아두세요':'event_description', 'img':'event_img', 'img_text':'event_img_ocr'})\n",
        "        r_set_d = json.loads(r_set_d.to_json(orient=\"records\"))\n",
        "        for r in r_set_d:\n",
        "            for _, v in r.items():\n",
        "                recom_msg += f\"{v} \\n\"\n",
        "            recom_msg += \"\\n\"\n",
        "        user_msg_history.append({'role' : 'assistant', 'content' : f\"{intent_data_msg} {str(recom_msg)}\"})\n",
        "        #print(f\"\\n recom data : {intent_data_msg} {str(recom_msg)}\")\n",
        "        return r_set_d"
      ]
    },
    {
      "cell_type": "markdown",
      "id": "d5744662-a0ee-492f-8dcf-84465ee70422",
      "metadata": {
        "id": "d5744662-a0ee-492f-8dcf-84465ee70422"
      },
      "source": [
        "### 4. query : 질문(=고객 정보) 넣어 추천 결과 도출"
      ]
    },
    {
      "cell_type": "code",
      "execution_count": 14,
      "id": "bH6HhMBS1_1Y",
      "metadata": {
        "colab": {
          "base_uri": "https://localhost:8080/"
        },
        "id": "bH6HhMBS1_1Y",
        "outputId": "ad43c021-12cd-4b9b-dc12-d5fb1a80b535"
      },
      "outputs": [
        {
          "name": "stdout",
          "output_type": "stream",
          "text": [
            "아래 고객 정보 (ID: 1113)를 기반으로 적절한 금융 이벤트를 추천해 주세요.\n",
            "{'id': 1113, '자치구명': '서울시 은평구', '생년월일': 1962, '성별': '남', '직업군': '일반직장인', '평균_통화량': 990.0, '대출여부': 1.0, '추정연소득_백분위': 15.0, '총대출약정금액': 100000.0, '신용대출약정금액': 70000.0, 'Top3_소비_키워드': ['가정생활/서비스', '소형유통점', '의료']}\n",
            "\n"
          ]
        }
      ],
      "source": [
        "# 특정 고객의 id로 고객 정보 호출\n",
        "selected_id = random.randint(1, 2000)\n",
        "selected_customer = customer_dict.get(selected_id)\n",
        "query = f\"\"\"아래 고객 정보 (ID: {selected_id})를 기반으로 적절한 금융 이벤트를 추천해 주세요.\n",
        "{selected_customer}\n",
        "\"\"\"\n",
        "print(query)"
      ]
    },
    {
      "cell_type": "code",
      "execution_count": 15,
      "id": "208472de-c9a2-4b66-aecc-cee8d6be8218",
      "metadata": {
        "colab": {
          "base_uri": "https://localhost:8080/"
        },
        "id": "208472de-c9a2-4b66-aecc-cee8d6be8218",
        "outputId": "bf2e0d41-3be8-4ea6-a35b-03cc0dbf9b8d"
      },
      "outputs": [
        {
          "name": "stdout",
          "output_type": "stream",
          "text": [
            "torch.return_types.topk(\n",
            "values=tensor([0.8275, 0.8252, 0.8212]),\n",
            "indices=tensor([262, 240, 337]))\n"
          ]
        },
        {
          "name": "stderr",
          "output_type": "stream",
          "text": [
            "/var/folders/10/1jlz9hbj355b5ysnf08kr7nw0000gn/T/ipykernel_84269/1429551103.py:14: SettingWithCopyWarning: \n",
            "A value is trying to be set on a copy of a slice from a DataFrame.\n",
            "Try using .loc[row_indexer,col_indexer] = value instead\n",
            "\n",
            "See the caveats in the documentation: https://pandas.pydata.org/pandas-docs/stable/user_guide/indexing.html#returning-a-view-versus-a-copy\n",
            "  result_df['score'] = top_result_score\n"
          ]
        },
        {
          "data": {
            "text/plain": [
              "{'event_id': '316',\n",
              " 'event_title': \"'한국씨티은행 신용대출 보유 고객님’만을 위한 WELCOME 이벤트\",\n",
              " 'event_period': '2022.11.11 ~ 2022.12.31',\n",
              " 'event_description': '본 이벤트 경품지급대상은 기간 내 [이벤트 응모] 및 [KB 제휴 대환 신용대출 실행 완료] 고객 中 대출실행 합산금액 3천만원 이상 고객입니다.이벤트 기간 내 실행된 대출합산금액을 기준으로 구간별 경품이 지급됩니다.대환대출 여러 건 실행시에도 응모는 최대 1번 가능하며, 통장자동대출 계좌, 경품지급일 기준 연체계좌 / 대출철회계좌 / 전액상환계좌인 경우 경품지급대상에서 제외됩니다.이벤트 경품은 경품지급일에 약정된 본인명의 자동이체 계좌로 입금됩니다.KB 제휴 대환 신용대출 이벤트는 KB국민은행의 사정에 따라 변경 또는 중단될 수 있으며 이벤트 경품은 사정상 동일금액대의 다른 상품으로 변경될 수 있습니다.경품 지급일까지 입금 처리 불가 사유(계좌 해지, 자동이체 계좌 변경 등) 발생, 경품 수령거부 등으로 경품 수령이 불가능할 경우 당첨이 무효 처리됩니다. 경품 수령을 위한 고객정보상의 연락처를 확인하여 주시기 바랍니다. 내 고객정보 바로가기 >5만원 초과 경품 당첨시 제세공과금은 고객 부담입니다.경품 당첨자는 KB스타뱅킹 앱을 통해 확인이 가능합니다. (경로: KB스타뱅킹 > 생활/혜택 > 이벤트 > 응모/당첨확인 > 당첨 이벤트 보기 > 해당이벤트 클릭)이벤트에 관한 기타 자세한 내용은 KB국민은행 고객센터(☏1588-9999)로 문의하시기 바랍니다.본 광고물은 이벤트 관련 홍보물이며 실제 상품의 계약은 대출거래약정서, 여신거래기본약관 등의 적용을 받기 때문에 대출계약을 체결하기 전에 반드시 상품설명서 및 관련 약관을 읽어보시기 바랍니다. 약관은 창구 및 KB국민은행 홈페이지(www.kbstar.com:전체서비스 > 고객센터 > 서식/약관/설명서)에서 교부 및 열람이 가능합니다.[대출상품 체결시 유의사항]금융소비자는 해당상품 또는 서비스에 대하여 설명받을 권리가 있습니다.본인의 신용등급 또는 채무상황 등에 따라 대출실행이 제한될 수 있습니다.KB 제휴 대환 신용대출 신청은 KB스타뱅킹에서 9:00~16:00까지 가능하며, 영업점 방문시 09:30~15:00까지 신청 가능합니다.KB 제휴 대환 신용대출은 당일신청 당일실행만 가능하며, 당일에 대출실행되지 않은 경우 익영업일 다시 신청하셔야 합니다.대출 1회 실행시 씨티은행 개인 신용대출 1계좌만 대환이 가능하며, 1회 여러건 실행은 불가합니다. 또한, 씨티은행 기존계좌의 현재대출 적용금리가 ‘대환대출 실행시점 기준금리(MOR 3개월) + 1.0%p’ 보다 작은 경우 대환대출 실행이 제한됩니다.실행된 대금은 기존 대출 상환을 위한 씨티은행 가상계좌로 입금되며, 대출원금 이외에 상환에 필요한 이자 및 기타 제비용은 고객 본인 명의의 국민은행 입출금통장에서 자동 출금되어 납부됩니다.씨티은행에서 고액 신용대출의 사후 용도관리 강화 관련 ‘주택 추가구입 금지의무추가약정’을 체결한 고객은 대환 이후에도 씨티은행 대출의 신규일로부터 1년간 주택 추가구입 금지의무가 유지됩니다.단기간 내 여러 금융기관을 통해 다수의 신용정보 조회를 한 경우 고객보호 및 대출사기 예방을 위해 비대면 대출이 제한될 수 있습니다.대출심사 결과에 따라 실제 대출금액과 금리가 다를 수 있습니다.「인터넷대출불가등록」 신청고객은 인터넷대출이 불가능합니다.대출신청인이 신용도판단정보 등록자(신용회복지원 또는 배드뱅크 포함)이거나 은행의 신용평가 결과 신용등급이 낮은 고객일 경우 대출이 제한될 수 있습니다.개인(신용)정보 조회는 고객님의 개인신용평점에 영향을 주지 않습니다.상환능력에 비해 대출금, 신용카드 사용액이 과도할 경우 개인신용평점 하락할 수 있으며, 개인신용평점 하락으로 금융거래와 관련된 불이익이 발생할 수 있습니다. 또한 대출 취급 후 일정 기간 납부해야 할 원리금이 연체될 경우, 계약만료 기한이 도래하기 전에 모든 원리금을 변제해야 할 의무가 발생할 수 있습니다.약정납입일이 경과되면 연체이자가 부과되며, 대출만기일이 경과하거나 이자를 납입하여야 할 때부터 1개월간 지체한 때, 분할상환원(리)금의 납입을 2회 이상 연속하여 지체한 때에는 대출잔액에 대하여 연체이자가 부과됩니다.대출사실만으로 신용점수는 하락할 수 있으며, 금리재산정주기가 도래하거나 대출금을 기한연장 하시는 경우에는 거래실적, 우대금리 제공조건 충족 여부, 신용등급 변화에 따라 금리가 하락 또는 상승될 수 있습니다.이자는 대출기간 중 매월 이자지급일에 대출상환방법에 따라 다음과 같이 부과됩니다. [일시상환(종합통장자동대출 포함): 일단위 일계산 후취, 분할상환: 월단위 월계산 또는 월단위 일계산 후취]연체이자율은 대출이자율에 연 3%p의 연체가산을 더하며, 최대 연체이자율은 연 15%p입니다. 다만, 대출이자율이 연 15%p 이상인 경우 대출이자율에 연 2%p를 더하여 적용합니다.이 상품은 KB국민은행 개인여신부에서 개발한 상품입니다. 기타 자세한 내용은 영업점 직원, KB 제휴 대환 신용대출 전용상담센터(☏1600-0922)로 문의하시거나 KB국민은행 홈페이지 (www.kbstar.com)를 참조하시기 바랍니다.본 광고물에 대한 유효기간 2023.4.7준법감시인 심의필 제2022-3586-10호(2022.11.10)',\n",
              " 'event_img': \"['https://oimg1.kbstar.com/img/oevent/2022/1107_KBcitizen/event_visual-1201.jpg', 'https://oimg1.kbstar.com/img/oevent/2022/1107_KBcitizen/event_cont_01.jpg', 'https://oimg1.kbstar.com/img/oevent/2022/1107_KBcitizen/event_cont_02-1110.jpg', 'https://oimg1.kbstar.com/img/oevent/2022/1107_KBcitizen/event_cont_03-1108.jpg', 'https://oimg1.kbstar.com/img/oevent/2022/1107_KBcitizen/event_cont_04.jpg', 'https://oimg1.kbstar.com/img/oevent/2022/1107_KBcitizen/event_cont_05.jpg']\",\n",
              " 'event_img_ocr': '           '}"
            ]
          },
          "execution_count": 15,
          "metadata": {},
          "output_type": "execute_result"
        }
      ],
      "source": [
        "#  query = '커피와 관련된 이벤트'\n",
        "answer = recommend_result(query)\n",
        "answer[0] #첫번째 추천 결과"
      ]
    },
    {
      "cell_type": "code",
      "execution_count": 18,
      "id": "1d2ae02f-a5cd-4ba8-a946-3133eb9f3fbd",
      "metadata": {
        "colab": {
          "base_uri": "https://localhost:8080/"
        },
        "id": "1d2ae02f-a5cd-4ba8-a946-3133eb9f3fbd",
        "outputId": "f701ddcd-bc92-4c50-aa60-61a9ecf9acf3"
      },
      "outputs": [
        {
          "data": {
            "text/plain": [
              "[{'event_id': '316',\n",
              "  'event_title': \"'한국씨티은행 신용대출 보유 고객님’만을 위한 WELCOME 이벤트\",\n",
              "  'event_period': '2022.11.11 ~ 2022.12.31',\n",
              "  'event_description': '본 이벤트 경품지급대상은 기간 내 [이벤트 응모] 및 [KB 제휴 대환 신용대출 실행 완료] 고객 中 대출실행 합산금액 3천만원 이상 고객입니다.이벤트 기간 내 실행된 대출합산금액을 기준으로 구간별 경품이 지급됩니다.대환대출 여러 건 실행시에도 응모는 최대 1번 가능하며, 통장자동대출 계좌, 경품지급일 기준 연체계좌 / 대출철회계좌 / 전액상환계좌인 경우 경품지급대상에서 제외됩니다.이벤트 경품은 경품지급일에 약정된 본인명의 자동이체 계좌로 입금됩니다.KB 제휴 대환 신용대출 이벤트는 KB국민은행의 사정에 따라 변경 또는 중단될 수 있으며 이벤트 경품은 사정상 동일금액대의 다른 상품으로 변경될 수 있습니다.경품 지급일까지 입금 처리 불가 사유(계좌 해지, 자동이체 계좌 변경 등) 발생, 경품 수령거부 등으로 경품 수령이 불가능할 경우 당첨이 무효 처리됩니다. 경품 수령을 위한 고객정보상의 연락처를 확인하여 주시기 바랍니다. 내 고객정보 바로가기 >5만원 초과 경품 당첨시 제세공과금은 고객 부담입니다.경품 당첨자는 KB스타뱅킹 앱을 통해 확인이 가능합니다. (경로: KB스타뱅킹 > 생활/혜택 > 이벤트 > 응모/당첨확인 > 당첨 이벤트 보기 > 해당이벤트 클릭)이벤트에 관한 기타 자세한 내용은 KB국민은행 고객센터(☏1588-9999)로 문의하시기 바랍니다.본 광고물은 이벤트 관련 홍보물이며 실제 상품의 계약은 대출거래약정서, 여신거래기본약관 등의 적용을 받기 때문에 대출계약을 체결하기 전에 반드시 상품설명서 및 관련 약관을 읽어보시기 바랍니다. 약관은 창구 및 KB국민은행 홈페이지(www.kbstar.com:전체서비스 > 고객센터 > 서식/약관/설명서)에서 교부 및 열람이 가능합니다.[대출상품 체결시 유의사항]금융소비자는 해당상품 또는 서비스에 대하여 설명받을 권리가 있습니다.본인의 신용등급 또는 채무상황 등에 따라 대출실행이 제한될 수 있습니다.KB 제휴 대환 신용대출 신청은 KB스타뱅킹에서 9:00~16:00까지 가능하며, 영업점 방문시 09:30~15:00까지 신청 가능합니다.KB 제휴 대환 신용대출은 당일신청 당일실행만 가능하며, 당일에 대출실행되지 않은 경우 익영업일 다시 신청하셔야 합니다.대출 1회 실행시 씨티은행 개인 신용대출 1계좌만 대환이 가능하며, 1회 여러건 실행은 불가합니다. 또한, 씨티은행 기존계좌의 현재대출 적용금리가 ‘대환대출 실행시점 기준금리(MOR 3개월) + 1.0%p’ 보다 작은 경우 대환대출 실행이 제한됩니다.실행된 대금은 기존 대출 상환을 위한 씨티은행 가상계좌로 입금되며, 대출원금 이외에 상환에 필요한 이자 및 기타 제비용은 고객 본인 명의의 국민은행 입출금통장에서 자동 출금되어 납부됩니다.씨티은행에서 고액 신용대출의 사후 용도관리 강화 관련 ‘주택 추가구입 금지의무추가약정’을 체결한 고객은 대환 이후에도 씨티은행 대출의 신규일로부터 1년간 주택 추가구입 금지의무가 유지됩니다.단기간 내 여러 금융기관을 통해 다수의 신용정보 조회를 한 경우 고객보호 및 대출사기 예방을 위해 비대면 대출이 제한될 수 있습니다.대출심사 결과에 따라 실제 대출금액과 금리가 다를 수 있습니다.「인터넷대출불가등록」 신청고객은 인터넷대출이 불가능합니다.대출신청인이 신용도판단정보 등록자(신용회복지원 또는 배드뱅크 포함)이거나 은행의 신용평가 결과 신용등급이 낮은 고객일 경우 대출이 제한될 수 있습니다.개인(신용)정보 조회는 고객님의 개인신용평점에 영향을 주지 않습니다.상환능력에 비해 대출금, 신용카드 사용액이 과도할 경우 개인신용평점 하락할 수 있으며, 개인신용평점 하락으로 금융거래와 관련된 불이익이 발생할 수 있습니다. 또한 대출 취급 후 일정 기간 납부해야 할 원리금이 연체될 경우, 계약만료 기한이 도래하기 전에 모든 원리금을 변제해야 할 의무가 발생할 수 있습니다.약정납입일이 경과되면 연체이자가 부과되며, 대출만기일이 경과하거나 이자를 납입하여야 할 때부터 1개월간 지체한 때, 분할상환원(리)금의 납입을 2회 이상 연속하여 지체한 때에는 대출잔액에 대하여 연체이자가 부과됩니다.대출사실만으로 신용점수는 하락할 수 있으며, 금리재산정주기가 도래하거나 대출금을 기한연장 하시는 경우에는 거래실적, 우대금리 제공조건 충족 여부, 신용등급 변화에 따라 금리가 하락 또는 상승될 수 있습니다.이자는 대출기간 중 매월 이자지급일에 대출상환방법에 따라 다음과 같이 부과됩니다. [일시상환(종합통장자동대출 포함): 일단위 일계산 후취, 분할상환: 월단위 월계산 또는 월단위 일계산 후취]연체이자율은 대출이자율에 연 3%p의 연체가산을 더하며, 최대 연체이자율은 연 15%p입니다. 다만, 대출이자율이 연 15%p 이상인 경우 대출이자율에 연 2%p를 더하여 적용합니다.이 상품은 KB국민은행 개인여신부에서 개발한 상품입니다. 기타 자세한 내용은 영업점 직원, KB 제휴 대환 신용대출 전용상담센터(☏1600-0922)로 문의하시거나 KB국민은행 홈페이지 (www.kbstar.com)를 참조하시기 바랍니다.본 광고물에 대한 유효기간 2023.4.7준법감시인 심의필 제2022-3586-10호(2022.11.10)',\n",
              "  'event_img': \"['https://oimg1.kbstar.com/img/oevent/2022/1107_KBcitizen/event_visual-1201.jpg', 'https://oimg1.kbstar.com/img/oevent/2022/1107_KBcitizen/event_cont_01.jpg', 'https://oimg1.kbstar.com/img/oevent/2022/1107_KBcitizen/event_cont_02-1110.jpg', 'https://oimg1.kbstar.com/img/oevent/2022/1107_KBcitizen/event_cont_03-1108.jpg', 'https://oimg1.kbstar.com/img/oevent/2022/1107_KBcitizen/event_cont_04.jpg', 'https://oimg1.kbstar.com/img/oevent/2022/1107_KBcitizen/event_cont_05.jpg']\",\n",
              "  'event_img_ocr': '           '},\n",
              " {'event_id': '284',\n",
              "  'event_title': '‘한국씨티은행 신용대출 보유 고객님’만을 위한 WELCOME 이벤트',\n",
              "  'event_period': '2023.01.02 ~ 2023.02.28',\n",
              "  'event_description': '본 이벤트 경품지급대상은 이벤트 기간 내 [이벤트 응모] 및 [KB 제휴 대환 신용대출 실행 완료] 고객 中 대출실행 합산금액 3천만원 이상 고객입니다.이벤트 기간 내 실행된 대출합산금액을 기준으로 구간별 경품이 지급됩니다.대환대출 여러 건 실행시에도 응모는 최대 1번 가능하며, 통장자동대출 계좌, 경품지급일 기준 연체계좌 / 대출철회계좌 / 전액상환계좌인 경우 경품지급대상에서 제외됩니다.이벤트 경품은 대출 실행시 등록된 자동이체 계좌로 입금됩니다.KB 제휴 대환 신용대출 이벤트는 KB국민은행의 사정에 따라 변경 또는 중단될 수 있으며 이벤트 경품은 사정상 동일금액대의 다른 상품으로 변경될 수 있습니다.경품 지급일까지 입금 처리 불가 사유(계좌 해지, 자동이체 계좌 변경 등) 발생, 경품 수령거부 등으로 경품 수령이 불가능할 경우 당첨이 무효 처리됩니다. 경품 수령을 위한 고객정보상의 연락처를 확인하여 주시기 바랍니다. 내 고객정보 바로가기 >5만원 초과 경품 당첨시 제세공과금은 고객 부담입니다.영업점 및 비대면 채널을 통해 주요 통화 환전 시 환율우대 최대 90%(USD 한정, JPY/EUR의 경우 최대 80%), 비대면채널을 통해 해외송금 시 환율우대 50%(일부송금사유에 한함) 및 해외송금수수료 면제 혜택을 전산자동 적용합니다.경품 당첨자는 KB스타뱅킹 앱을 통해 확인이 가능합니다. (경로: KB스타뱅킹 > 생활/혜택 > 이벤트 > 응모/당첨확인 > 당첨 이벤트 보기 > 해당이벤트 클릭)이벤트에 관한 기타 자세한 내용은 KB국민은행 고객센터(☏1588-9999)로 문의하시기 바랍니다.본 광고물은 이벤트 관련 홍보물이며 실제 상품의 계약은 대출거래약정서, 여신거래기본약관 등의 적용을 받기 때문에 대출계약을 체결하기 전에 반드시 상품설명서 및 관련 약관을 읽어보시기 바랍니다. 약관은 창구 및 KB국민은행 홈페이지(www.kbstar.com: > 전체서비스 > 고객센터 > 서식/약관/설명서)에서 교부 및 열람이 가능합니다.[대출상품 체결시 유의사항]금융소비자는 해당상품 또는 서비스에 대하여 설명받을 권리가 있습니다.본인의 신용등급 또는 채무상황 등에 따라 대출실행이 제한될 수 있습니다.KB 제휴 대환 신용대출 신청은 KB스타뱅킹에서 9:00~16:00까지 가능하며, 영업점 방문시 09:30~15:00까지 신청 가능합니다.KB 제휴 대환 신용대출은 당일신청 당일실행만 가능하며, 당일에 대출실행되지 않은 경우 익영업일 다시 신청하셔야 합니다.대출 1회 실행시 씨티은행 개인 신용대출 1계좌만 대환이 가능하며, 1회 여러건 실행은 불가합니다. 또한, 씨티은행 기존계좌의 현재대출 적용금리가 ‘대환대출 실행시점 기준금리(MOR 3개월) + 1.0%p’ 보다 작은 경우 대환대출 실행이 제한됩니다.실행된 대금은 기존 대출 상환을 위한 씨티은행 가상계좌로 입금되며, 대출원금 이외에 상환에 필요한 이자 및 기타 제비용은 고객 본인 명의의 국민은행 입출금통장에서 자동 출금되어 납부됩니다.씨티은행에서 고액 신용대출의 사후 용도관리 강화 관련 ‘주택 추가구입 금지의무추가약정’을 체결한 고객은 대환 이후에도 씨티은행 대출의 신규일로부터 1년간 주택 추가구입 금지의무가 유지됩니다.단기간 내 여러 금융기관을 통해 다수의 신용정보 조회를 한 경우 고객보호 및 대출사기 예방을 위해 비대면 대출이 제한될 수 있습니다.대출심사 결과에 따라 실제 대출금액과 금리가 다를 수 있습니다.「인터넷대출불가등록」 신청고객은 인터넷대출이 불가능합니다.대출신청인이 신용도판단정보 등록자(신용회복지원 또는 배드뱅크 포함)이거나 은행의 신용평가 결과 신용등급이 낮은 고객일 경우 대출이 제한될 수 있습니다.개인(신용)정보 조회는 고객님의 개인신용평점에 영향을 주지 않습니다.상환능력에 비해 대출금, 신용카드 사용액이 과도할 경우 개인신용평점 하락할 수 있으며, 개인신용평점 하락으로 금융거래와 관련된 불이익이 발생할 수 있습니다. 또한 대출 취급 후 일정 기간 납부해야 할 원리금이 연체될 경우, 계약만료 기한이 도래하기 전에 모든 원리금을 변제해야 할 의무가 발생할 수 있습니다.약정납입일이 경과되면 연체이자가 부과되며, 대출만기일이 경과하거나 이자를 납입하여야 할 때부터 1개월간 지체한 때, 분할상환원(리)금의 납입을 2회 이상 연속하여 지체한 때에는 대출잔액에 대하여 연체이자가 부과됩니다.대출사실만으로 신용점수는 하락할 수 있으며, 금리재산정주기가 도래하거나 대출금을 기한연장 하시는 경우에는 거래실적, 우대금리 제공조건 충족 여부, 신용등급 변화에 따라 금리가 하락 또는 상승될 수 있습니다.이자는 대출기간 중 매월 이자지급일에 대출상환방법에 따라 다음과 같이 부과됩니다.[일시상환(종합통장자동대출 포함): 일단위 일계산 후취, 분할상환: 월단위 월계산 또는 월단위 일계산 후취]연체이자율은 대출이자율에 연 3%p의 연체가산을 더하며, 최고 연체이자율은 연 15%p입니다. 다만, 대출이자율이 15%p 이상인 경우 대출이자율에 연 2%p를 더하여 적용합니다.이 상품은 KB국민은행 개인여신부에서 개발한 상품입니다. 기타 자세한 내용은 영업점 직원, KB 제휴 대환 신용대출 전용상담센터(☏1600-0922)로 문의하시거나 KB국민은행 홈페이지 (www.kbstar.com)를 참조하시기 바랍니다.본 광고물에 대한 유효기간 2023.6.9준법감시인 심의필 제2023-0616-2호(2023.2.20)',\n",
              "  'event_img': \"['https://oimg1.kbstar.com/img/oevent/2023/0102_KBcitizen/event_visual-0222.jpg', 'https://oimg1.kbstar.com/img/oevent/2023/0102_KBcitizen/event_QR.jpg']\",\n",
              "  'event_img_ocr': '한 국 씨 티 은 행 에서\\n1<8 국 민 은 행 으로 잘 오셨습니다\\n\\n시 108 국 민 은 행 으로\\n모 아 모아 |<8 혜 택 모 아 ! 잘 오셨습니다\\n혜택 1 현금 경품 최대 10 만 원 «zz aoe\\n혜택 2. SEE 지금 대출 그대로!\\n\\n혜택 3. 금 리 는 최대 연 0.4%p 더 낮게!\\n혜택 4. 중 도 상 환 수수료 & 수 입 인 지 세 면제\\n혜택 5. 주요 통화 환전 최대 90% 우대\\n\\n faa\\n\\nKB 제휴 대환 신 용 대출 이벤\\n원하는 고 객 님 은 08 보 드 . 2 more!\\n\\n'},\n",
              " {'event_id': '413',\n",
              "  'event_title': '「지금 만나야 힙(Hip)한 적립식 신탁」 경품 이벤트',\n",
              "  'event_period': '2022.05.23 ~ 2022.07.29',\n",
              "  'event_description': '[신탁 유의 사항]투자자는 금융상품에 대하여 은행으로부터 충분한 설명을 받을 권리가 있으며, 투자전 상품설명서 및 약관을 반드시 읽어보시기 바랍니다.금융상품은 예금자보호법에 따라 예금보험공사가 보호하지 않습니다.금융상품은 자산가격 변동, 환율 변동 등에 따라 투자원금의 손실(0~100%)이 발생할 수 있으며, 그 손실은 투자자에게 귀속됩니다.이 금융상품은 상품별로 별도의 보수가 발생할 수 있습니다.이 금융투자상품은 발행사의 신용위험에 따른 원금손실이 발생할 수 있습니다.[이벤트 유의사항]경품수령을 위해 은행에 등록된 고객정보(휴대전화번호)를 확인하여 주시기 바랍니다. 정보 불일치 또는 오류 등으로 수신하지 못한 경우 미수령으로 인한 불이익에 대하여 KB국민은행은 책임지지 않습니다.내 고객정보 바로가기 >당첨 발표일로부터 한달 이내 연락처 오류 또는 경품 수령거부 등의 사유로 경품 지급이 불가할 경우 당첨이 무효처리됩니다.당첨자는 유선으로 별도 통보하지 않으며, KB국민은행 홈페이지, KB스타뱅킹에서 확인이 가능합니다.모바일 쿠폰은 고객님의 휴대전화를 통해 발송되며, 경품제공을 위해 수탁업체에 고객님의 정보를 제공하고 경품 발송업무를 위탁합니다. (수탁자:㈜쿠프마케팅, 제공범위:성명/휴대전화번호, 대상업무:모바일상품권 발송)모바일쿠폰은 유효기간 내 사용가능하며 발송된 쿠폰의 유효기간이 경과한 경우 쿠폰 재발송이 불가능합니다.본 이벤트는 KB국민은행 및 제휴업체의 사정에 따라 변경 또는 중단될 수 있으며, 이벤트 경품은 사정상 동일 금액대의 다른 상품으로 변경 될 수 있습니다.(단, 기 조건 충족고객 및 당첨고객 제외)본 광고물은 이벤트 관련 홍보물이며, 상품가입 전 자세한 내용은 상품설명서 및 약관을 반드시 확인하시기 바랍니다.경품비용 및 제세공과금은 KB국민은행이 부담합니다.기타 자세한 내용은 영업점 직원 또는 고객센터 (1588-9999) 및 KB국민은행 홈페이지(www.kbstar.com)를 참조하시기 바랍니다.본 광고물에 대한 유효기간 2022.10.07까지준법감시인 심의필 제 2022-1581-1호(2022.05.20)',\n",
              "  'event_img': \"['https://oimg1.kbstar.com/img/oevent/2022/0523_hip/event_visual.jpg', 'https://oimg1.kbstar.com/img/oevent/2022/0523_hip/event_cont_01.jpg', 'https://oimg1.kbstar.com/img/oevent/2022/0523_hip/event_cont_02_v2.jpg']\",\n",
              "  'event_img_ocr': '     '}]"
            ]
          },
          "execution_count": 18,
          "metadata": {},
          "output_type": "execute_result"
        }
      ],
      "source": [
        "answer"
      ]
    },
    {
      "cell_type": "code",
      "execution_count": null,
      "id": "5fdbc972",
      "metadata": {},
      "outputs": [],
      "source": []
    }
  ],
  "metadata": {
    "colab": {
      "provenance": []
    },
    "kernelspec": {
      "display_name": "Python 3 (ipykernel)",
      "language": "python",
      "name": "python3"
    },
    "language_info": {
      "codemirror_mode": {
        "name": "ipython",
        "version": 3
      },
      "file_extension": ".py",
      "mimetype": "text/x-python",
      "name": "python",
      "nbconvert_exporter": "python",
      "pygments_lexer": "ipython3",
      "version": "3.9.16"
    }
  },
  "nbformat": 4,
  "nbformat_minor": 5
}
