{
 "cells": [
  {
   "cell_type": "markdown",
   "metadata": {},
   "source": [
    "### • 처음 크롤링 시 캡챠(보안문자) 등장 -> 보안문자 한번 넣은 다음 다시 크롤링하면 캡챠 안보임"
   ]
  },
  {
   "cell_type": "code",
   "execution_count": 1,
   "metadata": {},
   "outputs": [],
   "source": [
    "#! pip3 install selenium\n",
    "#! pip3 install webdriver-manager\n",
    "#! pip3 install ipykernel"
   ]
  },
  {
   "cell_type": "code",
   "execution_count": 1,
   "metadata": {},
   "outputs": [],
   "source": [
    "from selenium import webdriver\n",
    "from selenium.webdriver.common.by import By\n",
    "from selenium.webdriver.chrome.options import Options\n",
    "\n",
    "from selenium.webdriver.chrome.service import Service\n",
    "from webdriver_manager.chrome import ChromeDriverManager\n",
    "\n",
    "from bs4 import BeautifulSoup\n",
    "from selenium.webdriver.common.keys import Keys\n",
    "import pandas as pd\n",
    "import math\n",
    "import re\n",
    "import time\n",
    "\n",
    "import itertools\n",
    "from selenium.webdriver import ActionChains\n",
    "#from tqdm import trange, notebook\n",
    "from tqdm.notebook import tqdm\n",
    "\n",
    "#로봇우회\n",
    "import ssl\n",
    "ssl._create_default_https_context = ssl._create_unverified_context"
   ]
  },
  {
   "cell_type": "code",
   "execution_count": 3,
   "metadata": {},
   "outputs": [],
   "source": [
    "# 브라우저 꺼짐 방지 옵션\n",
    "chrome_options = Options()\n",
    "chrome_options.add_experimental_option(\"detach\", True)\n",
    "\n",
    "chrome_options.add_argument('--no-sandbox')\n",
    "chrome_options.add_argument('--disable-dev-shm-usage')\n",
    "chrome_options.add_argument('--ignore-certificate-errors')\n",
    "\n",
    "#driver = webdriver.Chrome(options=chrome_options)\n",
    "\n",
    "# 매크로 탐지 회피\n",
    "user_agent=f'Mozilla/5.0 (Macintosh; Intel Mac OS X 10_15_7) AppleWebKit/537.36 (KHTML, like Gecko) Chrome/127.0.0.0 Safari/537.36'\n",
    "chrome_options.add_argument(user_agent)\n",
    "chrome_options.add_experimental_option('excludeSwitches', ['enable-logging', 'enable-automation'])\n",
    "chrome_options.add_experimental_option(\"useAutomationExtension\", False)\n",
    "chrome_options.add_argument('--disable-blink-features=AutomationControlled')\n",
    "\n",
    "driver = webdriver.Chrome(options=chrome_options)\n",
    "\n",
    "# 웹페이지 해당 주소 이동\n",
    "url = \"https://omoney.kbstar.com/quics?page=C016559\"\n",
    "driver.get(url)"
   ]
  },
  {
   "cell_type": "markdown",
   "metadata": {},
   "source": [
    "### 여러 페이지 크롤링"
   ]
  },
  {
   "cell_type": "code",
   "execution_count": 30,
   "metadata": {
    "scrolled": true
   },
   "outputs": [
    {
     "data": {
      "application/vnd.jupyter.widget-view+json": {
       "model_id": "823566f62c9b4df0a080fa980a7e1080",
       "version_major": 2,
       "version_minor": 0
      },
      "text/plain": [
       "outer:   0%|          | 0/87 [00:00<?, ?it/s]"
      ]
     },
     "metadata": {},
     "output_type": "display_data"
    },
    {
     "data": {
      "application/vnd.jupyter.widget-view+json": {
       "model_id": "",
       "version_major": 2,
       "version_minor": 0
      },
      "text/plain": [
       "inner:   0%|          | 0/11 [00:00<?, ?it/s]"
      ]
     },
     "metadata": {},
     "output_type": "display_data"
    },
    {
     "name": "stdout",
     "output_type": "stream",
     "text": [
      "['833', 'KB 미국 대표성장주 펀드 가입 고객 EVENT', '2020.05.25 ~ 2020.06.30', '1906', ['https://oimg1.kbstar.com/img/oevent/2020/0525_kbfund/event_visual.jpg', 'https://oimg1.kbstar.com/img/oevent/2020/0525_kbfund/event_cont_01.jpg', 'https://oimg1.kbstar.com/img/oevent/2020/0525_kbfund/event_cont_02.jpg', 'https://oimg1.kbstar.com/img/oevent/2020/0525_kbfund/event_cont_03.jpg'], '알아두세요\\n집합투자상품은 예금자보호법에 따라 예금보험공사가 보호하지 않습니다.\\n집합투자상품은 운용결과에 따라 투자원금의 손실이 발생할 수 있으며 그 손실은 투자자에게 귀속됩니다.\\n집합투자증권을 취득하시기 전에 투자대상, 보수·수수료 및 환매방법 등에 관하여 (간이)투자설명서를 반드시 읽어보시기 바랍니다.\\n해외의 증권에 투자하는 펀드는 환율변동 및 투자대상 국가의 시장, 정치 및 경제상황 등에 따른 위험으로 원금 손실이 발생할 수 있습니다.\\n본 이벤트는 KB국민은행, KB자산운용 및 제휴업체의 사정에 따라 변경 또는 중단될 수 있습니다. (기 조건 충족 및 당첨고객 제외)\\n당첨자 발표일 이후 한 달 이내 경품 수령거부 또는 연락처 오류 등의 사유로 연락불가시 당첨이 무효처리 됩니다. 내 고객정보 바로가기 >\\n경품제공을 위해 수탁업체에게 고객님의 정보를 제공하고 경품 발송 업무를 위탁합니다. (수탁업체: ㈜코원비전, 제공범위: 전화번호, 대상업무 : 경품지급)\\n기타 자세한 상품 및 이벤트 내용은 창구 직원 또는 스마트상담부(☎1588-9999)로 문의하시거나 KB국민은행 홈페이지 (www.kbstar.com)를 참조하시기 바랍니다.\\n본 광고물에 대한 유효기간 2020.06.30까지준법감시인 심의필 제2020-0922호(2020.05.20)']\n",
      "['837', '삼성전자 펀드 투자하고 선물받자', '2020.05.13 ~ 2020.06.30', '1547', ['https://oimg1.kbstar.com/img/oevent/2020/0612_samsung/event_visual_pc.jpg', 'https://oimg1.kbstar.com/img/oevent/2020/0612_samsung/event_con_1.jpg', 'https://oimg1.kbstar.com/img/oevent/2020/0612_samsung/event_con_2.jpg'], '알아두세요\\n집합투자상품은 예금자보호법에 따라 예금보험공사가 보호하지 않습니다.\\n집합투자상품은 운용결과에 따라 투자원금의 손실이 발생할 수 있으며 그 손실은 투자자에게 귀속됩니다.\\n집합투자증권을 취득하시기 전에 투자대상, 보수·수수료 및 환매방법 등에 관하여 (간이)투자설명서를 반드시 읽어보시기 바랍니다.\\n기타 자세한 이벤트 내용은 창구직원 또는 스마트상담부(☎1588-9999)로 문의하시거나 KB국민은행 홈페이지(www.kbstar.com)를 참조하시기 바랍니다.\\n본 광고물에 대한 유효기간 2020.06.30까지준법감시인 심의필 제2020-0891호(2020.05.15)']\n"
     ]
    },
    {
     "data": {
      "application/vnd.jupyter.widget-view+json": {
       "model_id": "",
       "version_major": 2,
       "version_minor": 0
      },
      "text/plain": [
       "inner:   0%|          | 0/11 [00:00<?, ?it/s]"
      ]
     },
     "metadata": {},
     "output_type": "display_data"
    },
    {
     "data": {
      "application/vnd.jupyter.widget-view+json": {
       "model_id": "",
       "version_major": 2,
       "version_minor": 0
      },
      "text/plain": [
       "inner:   0%|          | 0/11 [00:00<?, ?it/s]"
      ]
     },
     "metadata": {},
     "output_type": "display_data"
    },
    {
     "data": {
      "application/vnd.jupyter.widget-view+json": {
       "model_id": "",
       "version_major": 2,
       "version_minor": 0
      },
      "text/plain": [
       "inner:   0%|          | 0/11 [00:00<?, ?it/s]"
      ]
     },
     "metadata": {},
     "output_type": "display_data"
    },
    {
     "data": {
      "application/vnd.jupyter.widget-view+json": {
       "model_id": "",
       "version_major": 2,
       "version_minor": 0
      },
      "text/plain": [
       "inner:   0%|          | 0/11 [00:00<?, ?it/s]"
      ]
     },
     "metadata": {},
     "output_type": "display_data"
    },
    {
     "data": {
      "application/vnd.jupyter.widget-view+json": {
       "model_id": "",
       "version_major": 2,
       "version_minor": 0
      },
      "text/plain": [
       "inner:   0%|          | 0/11 [00:00<?, ?it/s]"
      ]
     },
     "metadata": {},
     "output_type": "display_data"
    },
    {
     "data": {
      "application/vnd.jupyter.widget-view+json": {
       "model_id": "",
       "version_major": 2,
       "version_minor": 0
      },
      "text/plain": [
       "inner:   0%|          | 0/11 [00:00<?, ?it/s]"
      ]
     },
     "metadata": {},
     "output_type": "display_data"
    },
    {
     "data": {
      "application/vnd.jupyter.widget-view+json": {
       "model_id": "",
       "version_major": 2,
       "version_minor": 0
      },
      "text/plain": [
       "inner:   0%|          | 0/11 [00:00<?, ?it/s]"
      ]
     },
     "metadata": {},
     "output_type": "display_data"
    },
    {
     "data": {
      "application/vnd.jupyter.widget-view+json": {
       "model_id": "",
       "version_major": 2,
       "version_minor": 0
      },
      "text/plain": [
       "inner:   0%|          | 0/11 [00:00<?, ?it/s]"
      ]
     },
     "metadata": {},
     "output_type": "display_data"
    },
    {
     "data": {
      "application/vnd.jupyter.widget-view+json": {
       "model_id": "",
       "version_major": 2,
       "version_minor": 0
      },
      "text/plain": [
       "inner:   0%|          | 0/11 [00:00<?, ?it/s]"
      ]
     },
     "metadata": {},
     "output_type": "display_data"
    },
    {
     "data": {
      "application/vnd.jupyter.widget-view+json": {
       "model_id": "",
       "version_major": 2,
       "version_minor": 0
      },
      "text/plain": [
       "inner:   0%|          | 0/11 [00:00<?, ?it/s]"
      ]
     },
     "metadata": {},
     "output_type": "display_data"
    },
    {
     "data": {
      "application/vnd.jupyter.widget-view+json": {
       "model_id": "",
       "version_major": 2,
       "version_minor": 0
      },
      "text/plain": [
       "inner:   0%|          | 0/11 [00:00<?, ?it/s]"
      ]
     },
     "metadata": {},
     "output_type": "display_data"
    },
    {
     "data": {
      "application/vnd.jupyter.widget-view+json": {
       "model_id": "",
       "version_major": 2,
       "version_minor": 0
      },
      "text/plain": [
       "inner:   0%|          | 0/11 [00:00<?, ?it/s]"
      ]
     },
     "metadata": {},
     "output_type": "display_data"
    },
    {
     "data": {
      "application/vnd.jupyter.widget-view+json": {
       "model_id": "",
       "version_major": 2,
       "version_minor": 0
      },
      "text/plain": [
       "inner:   0%|          | 0/11 [00:00<?, ?it/s]"
      ]
     },
     "metadata": {},
     "output_type": "display_data"
    },
    {
     "data": {
      "application/vnd.jupyter.widget-view+json": {
       "model_id": "",
       "version_major": 2,
       "version_minor": 0
      },
      "text/plain": [
       "inner:   0%|          | 0/11 [00:00<?, ?it/s]"
      ]
     },
     "metadata": {},
     "output_type": "display_data"
    },
    {
     "data": {
      "application/vnd.jupyter.widget-view+json": {
       "model_id": "",
       "version_major": 2,
       "version_minor": 0
      },
      "text/plain": [
       "inner:   0%|          | 0/11 [00:00<?, ?it/s]"
      ]
     },
     "metadata": {},
     "output_type": "display_data"
    },
    {
     "data": {
      "application/vnd.jupyter.widget-view+json": {
       "model_id": "",
       "version_major": 2,
       "version_minor": 0
      },
      "text/plain": [
       "inner:   0%|          | 0/11 [00:00<?, ?it/s]"
      ]
     },
     "metadata": {},
     "output_type": "display_data"
    },
    {
     "data": {
      "application/vnd.jupyter.widget-view+json": {
       "model_id": "",
       "version_major": 2,
       "version_minor": 0
      },
      "text/plain": [
       "inner:   0%|          | 0/11 [00:00<?, ?it/s]"
      ]
     },
     "metadata": {},
     "output_type": "display_data"
    },
    {
     "data": {
      "application/vnd.jupyter.widget-view+json": {
       "model_id": "",
       "version_major": 2,
       "version_minor": 0
      },
      "text/plain": [
       "inner:   0%|          | 0/11 [00:00<?, ?it/s]"
      ]
     },
     "metadata": {},
     "output_type": "display_data"
    },
    {
     "data": {
      "application/vnd.jupyter.widget-view+json": {
       "model_id": "",
       "version_major": 2,
       "version_minor": 0
      },
      "text/plain": [
       "inner:   0%|          | 0/11 [00:00<?, ?it/s]"
      ]
     },
     "metadata": {},
     "output_type": "display_data"
    },
    {
     "data": {
      "application/vnd.jupyter.widget-view+json": {
       "model_id": "",
       "version_major": 2,
       "version_minor": 0
      },
      "text/plain": [
       "inner:   0%|          | 0/11 [00:00<?, ?it/s]"
      ]
     },
     "metadata": {},
     "output_type": "display_data"
    }
   ],
   "source": [
    "result = []\n",
    "\n",
    "for i in tqdm(range(84, 171), desc='outer', position=0): #12\n",
    "\n",
    "    table = driver.find_element(By.XPATH, '/html/body/div[1]/div[2]/div[2]/div[3]/table')\n",
    "    tbody = table.find_element(By.TAG_NAME, 'tbody')\n",
    "    rows = tbody.find_elements(By.TAG_NAME, 'tr')\n",
    "\n",
    "    for li in tqdm(range(len(rows)), desc='inner', position=1, leave=False):\n",
    "        try:\n",
    "            num = rows[li].find_element(By.CLASS_NAME, 'num').text\n",
    "            title = rows[li].find_element(By.CLASS_NAME, 'left').text\n",
    "            period = rows[li].find_elements(By.TAG_NAME, 'td')[2].get_attribute(\"innerText\")\n",
    "            count = rows[li].find_elements(By.TAG_NAME, 'td')[3].get_attribute(\"innerText\")\n",
    "            \n",
    "            try:\n",
    "                #click\n",
    "                element = rows[li].find_element(By.CSS_SELECTOR, 'a')\n",
    "                driver.execute_script(\"arguments[0].click();\", element)\n",
    "                time.sleep(0.7)\n",
    "        \n",
    "                image_url_1 = driver.find_element(By.CSS_SELECTOR, 'div.ev_visual > img').get_attribute('src')\n",
    "                note = driver.find_element(By.CLASS_NAME, 'ev_tip_box').text\n",
    "\n",
    "                x = [image_url_1]\n",
    "\n",
    "                #x : 여러 이미지_url이 담긴 리스트\n",
    "                try:\n",
    "                    img_loc = driver.find_elements(By.CSS_SELECTOR, 'div.ev_Cont > div > img')\n",
    "                    if img_loc:  # img_loc이 비어있지 않은지 확인\n",
    "                        for j in range(len(img_loc)):\n",
    "                            globals()[f'img_{j+2}'] = img_loc[j].get_attribute('src')\n",
    "                            x.append(globals()[f'img_{j+2}'])\n",
    "\n",
    "                    else:\n",
    "                        raise Exception(\"No elements found in first selector\")\n",
    "\n",
    "                except:\n",
    "                    try:\n",
    "                        img_loc = driver.find_elements(By.CSS_SELECTOR, 'div.ev_Cont > div > p > img')\n",
    "                        if img_loc:  # img_loc이 비어있지 않은지 확인\n",
    "                            for j in range(len(img_loc)):\n",
    "                                globals()[f'img_{j+2}'] = img_loc[j].get_attribute('src')\n",
    "                                x.append(globals()[f'img_{j+2}'])\n",
    "                        else:\n",
    "                            raise Exception(\"No elements found in second selector\")\n",
    "\n",
    "                    except:\n",
    "                        img_loc = driver.find_elements(By.CSS_SELECTOR, 'div.ev_Cont > div > div > img')\n",
    "                        if img_loc:  \n",
    "                            for j in range(len(img_loc)):\n",
    "                                globals()[f'img_{j+2}'] = img_loc[j].get_attribute('src')\n",
    "                                x.append(globals()[f'img_{j+2}'])\n",
    "                        else:\n",
    "                            print(\"No elements found in third selector\")\n",
    "                \n",
    "\n",
    "                data = [num, title, period, count, x, note] \n",
    "                print(data)\n",
    "                result.append(data)\n",
    "\n",
    "            except:\n",
    "                pass\n",
    "                \n",
    "            # 처음 페이지로 이동\n",
    "            driver.find_element(By.ID,'목록').click()\n",
    "            time.sleep(1.2)\n",
    "\n",
    "            table = driver.find_element(By.XPATH, '/html/body/div[1]/div[2]/div[2]/div[3]/table')\n",
    "            tbody = table.find_element(By.TAG_NAME, 'tbody')\n",
    "            rows = tbody.find_elements(By.TAG_NAME, 'tr')\n",
    "            \n",
    "        except:\n",
    "            pass\n",
    "\n",
    "    try:\n",
    "        pages = driver.find_element(By.XPATH, '//*[@id=\"b033091\"]/div[2]/div[1]')\n",
    "        pages.find_element(By.ID, 'pageinput'+str(i+1)).click()\n",
    "        time.sleep(1)\n",
    "\n",
    "        if (i+1)%10 == 0:\n",
    "            driver.find_element(By.XPATH, '//*[@id=\"nextinput\"]/span/button').click()\n",
    "            time.sleep(1)\n",
    "    except:\n",
    "        break"
   ]
  },
  {
   "cell_type": "code",
   "execution_count": 31,
   "metadata": {
    "scrolled": true
   },
   "outputs": [
    {
     "data": {
      "text/html": [
       "<div>\n",
       "<style scoped>\n",
       "    .dataframe tbody tr th:only-of-type {\n",
       "        vertical-align: middle;\n",
       "    }\n",
       "\n",
       "    .dataframe tbody tr th {\n",
       "        vertical-align: top;\n",
       "    }\n",
       "\n",
       "    .dataframe thead th {\n",
       "        text-align: right;\n",
       "    }\n",
       "</style>\n",
       "<table border=\"1\" class=\"dataframe\">\n",
       "  <thead>\n",
       "    <tr style=\"text-align: right;\">\n",
       "      <th></th>\n",
       "      <th>번호</th>\n",
       "      <th>제목</th>\n",
       "      <th>이벤트 기간</th>\n",
       "      <th>조회수</th>\n",
       "      <th>img</th>\n",
       "      <th>알아두세요</th>\n",
       "    </tr>\n",
       "  </thead>\n",
       "  <tbody>\n",
       "    <tr>\n",
       "      <th>0</th>\n",
       "      <td>833</td>\n",
       "      <td>KB 미국 대표성장주 펀드 가입 고객 EVENT</td>\n",
       "      <td>2020.05.25 ~ 2020.06.30</td>\n",
       "      <td>1906</td>\n",
       "      <td>[https://oimg1.kbstar.com/img/oevent/2020/0525...</td>\n",
       "      <td>알아두세요\\n집합투자상품은 예금자보호법에 따라 예금보험공사가 보호하지 않습니다.\\n...</td>\n",
       "    </tr>\n",
       "    <tr>\n",
       "      <th>1</th>\n",
       "      <td>837</td>\n",
       "      <td>삼성전자 펀드 투자하고 선물받자</td>\n",
       "      <td>2020.05.13 ~ 2020.06.30</td>\n",
       "      <td>1547</td>\n",
       "      <td>[https://oimg1.kbstar.com/img/oevent/2020/0612...</td>\n",
       "      <td>알아두세요\\n집합투자상품은 예금자보호법에 따라 예금보험공사가 보호하지 않습니다.\\n...</td>\n",
       "    </tr>\n",
       "  </tbody>\n",
       "</table>\n",
       "</div>"
      ],
      "text/plain": [
       "    번호                          제목                   이벤트 기간   조회수  \\\n",
       "0  833  KB 미국 대표성장주 펀드 가입 고객 EVENT  2020.05.25 ~ 2020.06.30  1906   \n",
       "1  837           삼성전자 펀드 투자하고 선물받자  2020.05.13 ~ 2020.06.30  1547   \n",
       "\n",
       "                                                 img  \\\n",
       "0  [https://oimg1.kbstar.com/img/oevent/2020/0525...   \n",
       "1  [https://oimg1.kbstar.com/img/oevent/2020/0612...   \n",
       "\n",
       "                                               알아두세요  \n",
       "0  알아두세요\\n집합투자상품은 예금자보호법에 따라 예금보험공사가 보호하지 않습니다.\\n...  \n",
       "1  알아두세요\\n집합투자상품은 예금자보호법에 따라 예금보험공사가 보호하지 않습니다.\\n...  "
      ]
     },
     "execution_count": 31,
     "metadata": {},
     "output_type": "execute_result"
    }
   ],
   "source": [
    "columns = ['번호','제목','이벤트 기간','조회수','img','알아두세요']\n",
    "kb_event = pd.DataFrame(result, columns=columns)\n",
    "kb_event"
   ]
  },
  {
   "cell_type": "code",
   "execution_count": 28,
   "metadata": {},
   "outputs": [
    {
     "data": {
      "text/plain": [
       "55"
      ]
     },
     "execution_count": 28,
     "metadata": {},
     "output_type": "execute_result"
    }
   ],
   "source": [
    "len(kb_event)"
   ]
  },
  {
   "cell_type": "code",
   "execution_count": 29,
   "metadata": {},
   "outputs": [],
   "source": [
    "import openpyxl\n",
    "kb_event.to_excel('/Users/parkjungeun/Downloads/kb_event8.xlsx', index=False)"
   ]
  },
  {
   "cell_type": "code",
   "execution_count": 16,
   "metadata": {},
   "outputs": [
    {
     "data": {
      "text/plain": [
       "['https://oimg1.kbstar.com/img/oevent/2023/0823_Liiv&Live/ev_visual.png',\n",
       " 'https://oimg1.kbstar.com/img/oevent/2023/0823_Liiv&Live/ev_cont_01.png',\n",
       " 'https://oimg1.kbstar.com/img/oevent/2023/0823_Liiv&Live/ev_cont_02.png',\n",
       " 'https://oimg1.kbstar.com/img/oevent/2023/0823_Liiv&Live/ev_cont_03.png']"
      ]
     },
     "execution_count": 16,
     "metadata": {},
     "output_type": "execute_result"
    }
   ],
   "source": [
    "img = kb_event.loc[71,'img']\n",
    "img"
   ]
  },
  {
   "cell_type": "markdown",
   "metadata": {},
   "source": [
    "### 이미지 url -> 텍스트"
   ]
  },
  {
   "cell_type": "code",
   "execution_count": 25,
   "metadata": {},
   "outputs": [
    {
     "name": "stdout",
     "output_type": "stream",
     "text": [
      "(720, 340)\n"
     ]
    }
   ],
   "source": [
    "#! pip3 install pytesseract\n",
    "from urllib import request\n",
    "from PIL import Image\n",
    "import pytesseract\n",
    "from io import BytesIO\n",
    "\n",
    "res = request.urlopen(img[0]).read()\n",
    "img = Image.open(BytesIO(res))\n",
    "print(img.size)\n",
    "#print(img.show())"
   ]
  },
  {
   "cell_type": "code",
   "execution_count": 26,
   "metadata": {},
   "outputs": [
    {
     "name": "stdout",
     "output_type": "stream",
     "text": [
      ">kb 1<8 콕 민 은 명 * Knitted,\n",
      "한정판 다 미 머리 Kit\n",
      "2024 개\n",
      "\n",
      "무 료 증 정\n",
      "\n",
      "‘S\n",
      "\n"
     ]
    }
   ],
   "source": [
    "#text = pytesseract.image_to_string(img, lang = 'Hangul')\n",
    "text = pytesseract.image_to_string(img, lang = 'eng+kor')\n",
    "print(text)"
   ]
  },
  {
   "cell_type": "code",
   "execution_count": null,
   "metadata": {},
   "outputs": [],
   "source": []
  }
 ],
 "metadata": {
  "kernelspec": {
   "display_name": "Python 3 (ipykernel)",
   "language": "python",
   "name": "python3"
  },
  "language_info": {
   "codemirror_mode": {
    "name": "ipython",
    "version": 3
   },
   "file_extension": ".py",
   "mimetype": "text/x-python",
   "name": "python",
   "nbconvert_exporter": "python",
   "pygments_lexer": "ipython3",
   "version": "3.9.16"
  }
 },
 "nbformat": 4,
 "nbformat_minor": 4
}
