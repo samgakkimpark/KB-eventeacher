{
  "cells": [
    {
      "cell_type": "code",
      "execution_count": 107,
      "id": "r75C5134hQfb",
      "metadata": {
        "colab": {
          "base_uri": "https://localhost:8080/"
        },
        "id": "r75C5134hQfb",
        "outputId": "2d6e7863-3a4e-4240-c6cb-e00b84ccba5c"
      },
      "outputs": [
        {
          "name": "stdout",
          "output_type": "stream",
          "text": [
            "Drive already mounted at /content/drive; to attempt to forcibly remount, call drive.mount(\"/content/drive\", force_remount=True).\n",
            "/content/drive/MyDrive/Colab Notebooks/Kb model\n"
          ]
        }
      ],
      "source": [
        "from google.colab import drive\n",
        "drive.mount('/content/drive')\n",
        "%cd /content/drive/MyDrive/Colab Notebooks/Kb model"
      ]
    },
    {
      "cell_type": "code",
      "execution_count": 108,
      "id": "uihMeD8AiuWz",
      "metadata": {
        "id": "uihMeD8AiuWz"
      },
      "outputs": [],
      "source": [
        "# !pip install openai\n",
        "# !pip install sentence_transformers\n",
        "# !pip install python-dotenv\n",
        "# !pip install python-multipart\n",
        "# !pip install pytesseract"
      ]
    },
    {
      "cell_type": "markdown",
      "id": "66fc172f",
      "metadata": {},
      "source": [
        "git fetch origin\n",
        "git checkout 21-featuregpt_recommandation_wcustomer"
      ]
    },
    {
      "cell_type": "code",
      "execution_count": 109,
      "id": "c6bf1636-8223-44ca-ba45-76f14d5b73f7",
      "metadata": {
        "id": "c6bf1636-8223-44ca-ba45-76f14d5b73f7"
      },
      "outputs": [],
      "source": [
        "import random\n",
        "import json\n",
        "import pandas as pd\n",
        "import numpy as np\n",
        "from ast import literal_eval\n",
        "from typing import List\n",
        "\n",
        "import openai\n",
        "import os\n",
        "import sys\n",
        "from dotenv import load_dotenv\n",
        "\n",
        "from urllib import request\n",
        "from urllib.request import Request, urlopen\n",
        "from PIL import Image\n",
        "import pytesseract\n",
        "from io import BytesIO\n",
        "\n",
        "from ast import literal_eval\n",
        "import re\n",
        "from tqdm.notebook import tqdm\n",
        "\n",
        "import torch\n",
        "from tqdm.autonotebook import tqdm, trange\n",
        "from sentence_transformers import SentenceTransformer, util\n",
        "import json\n",
        "\n",
        "from openai import OpenAI\n",
        "OPENAI_API_KEY = \"sk-proj-AO3KelC1emoiTrtYed3jT3BlbkFJVuDMTmSkpm2J4S7me2nO\"\n",
        "client = OpenAI(\n",
        "  api_key=OPENAI_API_KEY\n",
        ")"
      ]
    },
    {
      "cell_type": "markdown",
      "id": "9dea3bfc-ada0-43b2-9e9d-5c402bdc48d9",
      "metadata": {
        "id": "9dea3bfc-ada0-43b2-9e9d-5c402bdc48d9"
      },
      "source": [
        "### 1. df_emb_total_2.csv : 데이터 전처리, Embedding vector 추출 완료된 데이터 파일"
      ]
    },
    {
      "cell_type": "markdown",
      "id": "EKlRxVY1pacF",
      "metadata": {
        "id": "EKlRxVY1pacF"
      },
      "source": [
        "### 데이터 로드"
      ]
    },
    {
      "cell_type": "code",
      "execution_count": 134,
      "id": "wPNsyk8G2jXB",
      "metadata": {
        "id": "wPNsyk8G2jXB"
      },
      "outputs": [],
      "source": [
        "# Load the JSON data into a variable named 'customer_data' to avoid overwriting\n",
        "with open('output2.json', 'r', encoding='utf-8') as f:\n",
        "    customer_data = json.load(f)\n",
        "\n",
        "# JSON 데이터를 id를 키로 사용하는 딕셔너리로 변환\n",
        "customer_dict = {customer['id']: customer for customer in customer_data}"
      ]
    },
    {
      "cell_type": "code",
      "execution_count": 111,
      "id": "0c33e94a-5f46-48eb-80b2-2eb1ed2bbc94",
      "metadata": {
        "id": "0c33e94a-5f46-48eb-80b2-2eb1ed2bbc94"
      },
      "outputs": [],
      "source": [
        "df = pd.read_csv('/content/drive/MyDrive/Colab Notebooks/Kb model/df_emb_total_2.csv', sep = ',', dtype = str, engine='python', on_bad_lines='skip')\n",
        "df['openai_emb'] = df['openai_emb'].apply(lambda x: literal_eval(x))"
      ]
    },
    {
      "cell_type": "markdown",
      "id": "NdJyAkUBpo0y",
      "metadata": {
        "id": "NdJyAkUBpo0y"
      },
      "source": [
        "### 2. 다음 코드부터는 코사인 유사도 구현 후 chatgpt 이용해서 프롬프트 구현까지 진행"
      ]
    },
    {
      "cell_type": "code",
      "execution_count": 112,
      "id": "faeb4970-a72c-46f8-aef0-fe8e7c617095",
      "metadata": {
        "id": "faeb4970-a72c-46f8-aef0-fe8e7c617095"
      },
      "outputs": [],
      "source": [
        "def get_query_sim_top_k(query, top_k):\n",
        "    openai_model = 'text-embedding-ada-002'\n",
        "    query_encode = client.embeddings.create(model = openai_model, input=query)\n",
        "    query_encode = query_encode.data[0].embedding\n",
        "    cos_scores = util.pytorch_cos_sim(query_encode, df['openai_emb'])[0]\n",
        "    top_results = torch.topk(cos_scores, k=top_k)\n",
        "    print(top_results)\n",
        "\n",
        "    top_result_id = top_results.indices.tolist()\n",
        "    top_result_score = top_results.values.tolist()\n",
        "\n",
        "    result_df = df[df.index.isin(top_result_id)]\n",
        "    result_df.index = top_result_id\n",
        "    result_df['score'] = top_result_score\n",
        "    answer = result_df[['score','번호','제목', '이벤트 기간', 'img', 'img_text']]\n",
        "\n",
        "    return top_results #answer"
      ]
    },
    {
      "cell_type": "markdown",
      "id": "eb72251c-348f-4ba0-abe2-a910517936c3",
      "metadata": {
        "id": "eb72251c-348f-4ba0-abe2-a910517936c3"
      },
      "source": [
        "### 3. Prompt 설정"
      ]
    },
    {
      "cell_type": "code",
      "execution_count": 113,
      "id": "6fe782b3-3d18-436d-89d7-9c6db0c6f434",
      "metadata": {
        "id": "6fe782b3-3d18-436d-89d7-9c6db0c6f434"
      },
      "outputs": [],
      "source": [
        "#user_msg_history = []\n",
        "def get_chatgpt_msg(msg):\n",
        "    response = client.chat.completions.create(\n",
        "                    model=\"gpt-3.5-turbo\",\n",
        "                    messages=msg\n",
        "                    )\n",
        "    return response.choices[0].message.content\n",
        "\n",
        "def set_prompt(intent, query, msg_prompt_init):\n",
        "    '''prompt 형태를 만들어주는 함수'''\n",
        "    m = dict()\n",
        "    # 검색 또는 추천이면\n",
        "    if ('recom' in intent) or ('search' in intent):\n",
        "        msg = msg_prompt_init['recom'] # 시스템 메세지를 가지고오고\n",
        "    # 설명문이면\n",
        "    elif 'desc' in intent:\n",
        "        msg = msg_prompt_init['desc'] # 시스템 메세지를 가지고오고\n",
        "    # intent 파악\n",
        "    else:\n",
        "        msg = msg_prompt_init['intent']\n",
        "        msg['user'] += f' {query} \\n A:'\n",
        "    for k, v in msg.items():\n",
        "        m['role'], m['content'] = k, v\n",
        "    return [m]"
      ]
    },
    {
      "cell_type": "code",
      "execution_count": 114,
      "id": "a0d64166-2fa4-4314-b2a5-a04543044939",
      "metadata": {
        "id": "a0d64166-2fa4-4314-b2a5-a04543044939"
      },
      "outputs": [],
      "source": [
        "def recommend_result(query):\n",
        "    user_msg_history = []\n",
        "    msg_prompt_init = {\n",
        "        'recom' : {\n",
        "                    'system' : \"당신은 사용자의 질문에 따라 은행 이벤트를 추천하는 유용한 도우미입니다.\",\n",
        "                    'user' : \"'물론이죠!'로 시작하는 간단한 인사말을 한 문장씩 작성해 보세요. 사용자에게 은행 이벤트 항목을 추천합니다.\",\n",
        "                  },\n",
        "        'desc' : {\n",
        "                    'system' : \"당신은 친절하게 답변해주시는 유용한 도우미입니다.\",\n",
        "                    'user' : \"사용자에게 해당 항목을 설명하기 위해 '물론이죠!'로 시작하는 간단한 인사말을 작성해주세요.\",\n",
        "                  },\n",
        "        'intent' : {\n",
        "                    'system' : \"당신은 사용자의 질문 의도를 이해하는 유용한 도우미입니다.\",\n",
        "                    'user' : \"다음 문장은 '설명', '추천', '검색' 중 어떤 카테고리에 속합니까? 카테고리만 표시합니다. \\n content:\"\n",
        "                    }\n",
        "    }\n",
        "\n",
        "\n",
        "    # 1. 사용자의 의도를 파악\n",
        "    user_intent = set_prompt('intent', query, msg_prompt_init)\n",
        "    user_intent = get_chatgpt_msg(user_intent)\n",
        "    #print(\"user_intent : \", user_intent)\n",
        "\n",
        "    # 2. 사용자의 쿼리에 따라 prompt 생성\n",
        "    intent_data = set_prompt(user_intent, query, msg_prompt_init)\n",
        "    intent_data_msg = get_chatgpt_msg(intent_data).replace(\"\\n\", \"\").strip()\n",
        "    #print(\"intent_data_msg : \", intent_data_msg)\n",
        "\n",
        "    # 3. 추천 또는 검색이면\n",
        "    if ('추천' in user_intent) or ('검색' in user_intent):\n",
        "        recom_msg = str()\n",
        "        # 기존에 메세지가 있으면 쿼리로 대체\n",
        "        if (len(user_msg_history) > 0 ) and (user_msg_history[-1]['role'] == 'assistant'):\n",
        "            query = user_msg_history[-1]['content']['feature']\n",
        "\n",
        "        # 유사 아이템 top_k = 3개 가져오기\n",
        "        top_result = get_query_sim_top_k(query, top_k=3)\n",
        "\n",
        "        # 검색이면, 자기 자신의 컨텐츠는 제외\n",
        "        top_index = top_result[1].numpy() #if '추천' in user_intent else top_result[1].numpy()[1:]\n",
        "\n",
        "        # '번호','제목', '이벤트 기간', 'img', 'img_text'를 가져와서 출력\n",
        "        r_set_d = df.iloc[top_index, :][['번호','제목', '이벤트 기간', '알아두세요', 'img', 'img_text']]\n",
        "        r_set_d = r_set_d.rename(columns = {'번호':'event_id', '제목':'event_title', '이벤트 기간':'event_period',\n",
        "                                            '알아두세요':'event_description', 'img':'event_img', 'img_text':'event_img_ocr'})\n",
        "        r_set_d = json.loads(r_set_d.to_json(orient=\"records\"))\n",
        "        for r in r_set_d:\n",
        "            for _, v in r.items():\n",
        "                recom_msg += f\"{v} \\n\"\n",
        "            recom_msg += \"\\n\"\n",
        "        user_msg_history.append({'role' : 'assistant', 'content' : f\"{intent_data_msg} {str(recom_msg)}\"})\n",
        "        #print(f\"\\n recom data : {intent_data_msg} {str(recom_msg)}\")\n",
        "        return r_set_d"
      ]
    },
    {
      "cell_type": "markdown",
      "id": "d5744662-a0ee-492f-8dcf-84465ee70422",
      "metadata": {
        "id": "d5744662-a0ee-492f-8dcf-84465ee70422"
      },
      "source": [
        "### 4. query : 질문(=고객 정보) 넣어 추천 결과 도출"
      ]
    },
    {
      "cell_type": "code",
      "execution_count": 135,
      "id": "bH6HhMBS1_1Y",
      "metadata": {
        "colab": {
          "base_uri": "https://localhost:8080/"
        },
        "id": "bH6HhMBS1_1Y",
        "outputId": "ad43c021-12cd-4b9b-dc12-d5fb1a80b535"
      },
      "outputs": [
        {
          "name": "stdout",
          "output_type": "stream",
          "text": [
            "아래 고객 정보 (ID: 1391)를 기반으로 적절한 금융 이벤트를 추천해 주세요.\n",
            "{'id': 1391, '자치구명': '서울시 양천구', '생년월일': 1942, '성별': '남', '직업군': '무직/기타', '추정연소득_백분위': 78.0, 'Top3_소비_키워드': ['의료', '소형유통점', '주유']}\n",
            "\n"
          ]
        }
      ],
      "source": [
        "# 특정 고객의 id로 고객 정보 호출\n",
        "selected_id = random.randint(1, 2000)\n",
        "selected_customer = customer_dict.get(selected_id)\n",
        "query = f\"\"\"아래 고객 정보 (ID: {selected_id})를 기반으로 적절한 금융 이벤트를 추천해 주세요.\n",
        "{selected_customer}\n",
        "\"\"\"\n",
        "print(query)"
      ]
    },
    {
      "cell_type": "code",
      "execution_count": 136,
      "id": "208472de-c9a2-4b66-aecc-cee8d6be8218",
      "metadata": {
        "colab": {
          "base_uri": "https://localhost:8080/"
        },
        "id": "208472de-c9a2-4b66-aecc-cee8d6be8218",
        "outputId": "bf2e0d41-3be8-4ea6-a35b-03cc0dbf9b8d"
      },
      "outputs": [
        {
          "name": "stdout",
          "output_type": "stream",
          "text": [
            "torch.return_types.topk(\n",
            "values=tensor([0.8293, 0.8288, 0.8287]),\n",
            "indices=tensor([337, 313, 309]))\n"
          ]
        },
        {
          "name": "stderr",
          "output_type": "stream",
          "text": [
            "<ipython-input-112-8cb5a0e4b54e>:14: SettingWithCopyWarning: \n",
            "A value is trying to be set on a copy of a slice from a DataFrame.\n",
            "Try using .loc[row_indexer,col_indexer] = value instead\n",
            "\n",
            "See the caveats in the documentation: https://pandas.pydata.org/pandas-docs/stable/user_guide/indexing.html#returning-a-view-versus-a-copy\n",
            "  result_df['score'] = top_result_score\n"
          ]
        },
        {
          "data": {
            "text/plain": [
              "{'event_id': '413',\n",
              " 'event_title': '「지금 만나야 힙(Hip)한 적립식 신탁」 경품 이벤트',\n",
              " 'event_period': '2022.05.23 ~ 2022.07.29',\n",
              " 'event_description': '[신탁 유의 사항]투자자는 금융상품에 대하여 은행으로부터 충분한 설명을 받을 권리가 있으며, 투자전 상품설명서 및 약관을 반드시 읽어보시기 바랍니다.금융상품은 예금자보호법에 따라 예금보험공사가 보호하지 않습니다.금융상품은 자산가격 변동, 환율 변동 등에 따라 투자원금의 손실(0~100%)이 발생할 수 있으며, 그 손실은 투자자에게 귀속됩니다.이 금융상품은 상품별로 별도의 보수가 발생할 수 있습니다.이 금융투자상품은 발행사의 신용위험에 따른 원금손실이 발생할 수 있습니다.[이벤트 유의사항]경품수령을 위해 은행에 등록된 고객정보(휴대전화번호)를 확인하여 주시기 바랍니다. 정보 불일치 또는 오류 등으로 수신하지 못한 경우 미수령으로 인한 불이익에 대하여 KB국민은행은 책임지지 않습니다.내 고객정보 바로가기 >당첨 발표일로부터 한달 이내 연락처 오류 또는 경품 수령거부 등의 사유로 경품 지급이 불가할 경우 당첨이 무효처리됩니다.당첨자는 유선으로 별도 통보하지 않으며, KB국민은행 홈페이지, KB스타뱅킹에서 확인이 가능합니다.모바일 쿠폰은 고객님의 휴대전화를 통해 발송되며, 경품제공을 위해 수탁업체에 고객님의 정보를 제공하고 경품 발송업무를 위탁합니다. (수탁자:㈜쿠프마케팅, 제공범위:성명/휴대전화번호, 대상업무:모바일상품권 발송)모바일쿠폰은 유효기간 내 사용가능하며 발송된 쿠폰의 유효기간이 경과한 경우 쿠폰 재발송이 불가능합니다.본 이벤트는 KB국민은행 및 제휴업체의 사정에 따라 변경 또는 중단될 수 있으며, 이벤트 경품은 사정상 동일 금액대의 다른 상품으로 변경 될 수 있습니다.(단, 기 조건 충족고객 및 당첨고객 제외)본 광고물은 이벤트 관련 홍보물이며, 상품가입 전 자세한 내용은 상품설명서 및 약관을 반드시 확인하시기 바랍니다.경품비용 및 제세공과금은 KB국민은행이 부담합니다.기타 자세한 내용은 영업점 직원 또는 고객센터 (1588-9999) 및 KB국민은행 홈페이지(www.kbstar.com)를 참조하시기 바랍니다.본 광고물에 대한 유효기간 2022.10.07까지준법감시인 심의필 제 2022-1581-1호(2022.05.20)',\n",
              " 'event_img': \"['https://oimg1.kbstar.com/img/oevent/2022/0523_hip/event_visual.jpg', 'https://oimg1.kbstar.com/img/oevent/2022/0523_hip/event_cont_01.jpg', 'https://oimg1.kbstar.com/img/oevent/2022/0523_hip/event_cont_02_v2.jpg']\",\n",
              " 'event_img_ocr': '     '}"
            ]
          },
          "execution_count": 136,
          "metadata": {},
          "output_type": "execute_result"
        }
      ],
      "source": [
        "#  query = '커피와 관련된 이벤트'\n",
        "answer = recommend_result(query)\n",
        "answer[0] #첫번째 추천 결과"
      ]
    },
    {
      "cell_type": "code",
      "execution_count": 137,
      "id": "1d2ae02f-a5cd-4ba8-a946-3133eb9f3fbd",
      "metadata": {
        "colab": {
          "base_uri": "https://localhost:8080/"
        },
        "id": "1d2ae02f-a5cd-4ba8-a946-3133eb9f3fbd",
        "outputId": "f701ddcd-bc92-4c50-aa60-61a9ecf9acf3"
      },
      "outputs": [
        {
          "data": {
            "text/plain": [
              "[{'event_id': '413',\n",
              "  'event_title': '「지금 만나야 힙(Hip)한 적립식 신탁」 경품 이벤트',\n",
              "  'event_period': '2022.05.23 ~ 2022.07.29',\n",
              "  'event_description': '[신탁 유의 사항]투자자는 금융상품에 대하여 은행으로부터 충분한 설명을 받을 권리가 있으며, 투자전 상품설명서 및 약관을 반드시 읽어보시기 바랍니다.금융상품은 예금자보호법에 따라 예금보험공사가 보호하지 않습니다.금융상품은 자산가격 변동, 환율 변동 등에 따라 투자원금의 손실(0~100%)이 발생할 수 있으며, 그 손실은 투자자에게 귀속됩니다.이 금융상품은 상품별로 별도의 보수가 발생할 수 있습니다.이 금융투자상품은 발행사의 신용위험에 따른 원금손실이 발생할 수 있습니다.[이벤트 유의사항]경품수령을 위해 은행에 등록된 고객정보(휴대전화번호)를 확인하여 주시기 바랍니다. 정보 불일치 또는 오류 등으로 수신하지 못한 경우 미수령으로 인한 불이익에 대하여 KB국민은행은 책임지지 않습니다.내 고객정보 바로가기 >당첨 발표일로부터 한달 이내 연락처 오류 또는 경품 수령거부 등의 사유로 경품 지급이 불가할 경우 당첨이 무효처리됩니다.당첨자는 유선으로 별도 통보하지 않으며, KB국민은행 홈페이지, KB스타뱅킹에서 확인이 가능합니다.모바일 쿠폰은 고객님의 휴대전화를 통해 발송되며, 경품제공을 위해 수탁업체에 고객님의 정보를 제공하고 경품 발송업무를 위탁합니다. (수탁자:㈜쿠프마케팅, 제공범위:성명/휴대전화번호, 대상업무:모바일상품권 발송)모바일쿠폰은 유효기간 내 사용가능하며 발송된 쿠폰의 유효기간이 경과한 경우 쿠폰 재발송이 불가능합니다.본 이벤트는 KB국민은행 및 제휴업체의 사정에 따라 변경 또는 중단될 수 있으며, 이벤트 경품은 사정상 동일 금액대의 다른 상품으로 변경 될 수 있습니다.(단, 기 조건 충족고객 및 당첨고객 제외)본 광고물은 이벤트 관련 홍보물이며, 상품가입 전 자세한 내용은 상품설명서 및 약관을 반드시 확인하시기 바랍니다.경품비용 및 제세공과금은 KB국민은행이 부담합니다.기타 자세한 내용은 영업점 직원 또는 고객센터 (1588-9999) 및 KB국민은행 홈페이지(www.kbstar.com)를 참조하시기 바랍니다.본 광고물에 대한 유효기간 2022.10.07까지준법감시인 심의필 제 2022-1581-1호(2022.05.20)',\n",
              "  'event_img': \"['https://oimg1.kbstar.com/img/oevent/2022/0523_hip/event_visual.jpg', 'https://oimg1.kbstar.com/img/oevent/2022/0523_hip/event_cont_01.jpg', 'https://oimg1.kbstar.com/img/oevent/2022/0523_hip/event_cont_02_v2.jpg']\",\n",
              "  'event_img_ocr': '     '},\n",
              " {'event_id': '378',\n",
              "  'event_title': '은퇴자산관리 전문 「KB골든라이프센터」 상담고객 경품 제공 이벤트',\n",
              "  'event_period': '2022.08.01 ~ 2022.10.31',\n",
              "  'event_description': '금융소비자는 해당 서비스 및 금융상품에 대하여 설명받을 권리가 있습니다.KB국민은행에 등록된 연락처(휴대폰 번호)로 경품이 발송됩니다. 당첨자 발표일 이후 한 달 이내 경품수령거부 또는 연락처 오류 등의 사유로 연락 불가 시 당첨이 무효처리 됩니다.본 이벤트는 KB국민은행의 사정에 따라 변경 또는 중단될 수 있습니다.모바일쿠폰 제공을 위해 수탁업체에게 이벤트 당첨 고객님의 정보를 제공하고 경품 발송업무를 위탁합니다.(수탁업체: ㈜쿠프마케팅, 제공범위: 성명/휴대전화번호, 대상업무: 모바일쿠폰 발송)기타 자세한 내용은 KB국민은행 고객센터(☎1588-9999)로 문의하시거나 KB국민은행 홈페이지(www.kbstar.com)를 참조하시기 바랍니다.본 광고물에 대한 유효기간 2022.10.31까지준법감시인 심의필 제2022-2077-1호(2022.07.19)',\n",
              "  'event_img': \"['https://oimg1.kbstar.com/img/oevent/2022/0726_senior/event_visual.jpg', 'https://oimg1.kbstar.com/img/oevent/2022/0726_senior/event_cont_01.jpg', 'https://oimg1.kbstar.com/img/oevent/2022/0726_senior/event_cont_02.jpg']\",\n",
              "  'event_img_ocr': '     '},\n",
              " {'event_id': '374',\n",
              "  'event_title': '알아서 척척! 퇴직연금 사전지정운용제도(디폴트옵션) 사전 이벤트',\n",
              "  'event_period': '2022.08.12 ~ 2022.10.14',\n",
              "  'event_description': '설문 제출과 투자성향등록을 완료한 고객은 별도 응모없이 이벤트 참여 완료됩니다.경품 수령을 위한 고객정보상의 연락처(휴대폰 번호)를 확인하여 주시기 바랍니다. 당첨자 발표일 이후 한 달 이내 경품 수령거부 또는 연락처 오류 등의 사유로 연락 불가 시 당첨이 무효처리 됩니다. 내 고객정보 바로가기 >KB 퇴직연금(DC/IRP) 고객의 경우, 퇴직연금 특별이익 제공한도(연간 누적 3만원)에 따라 사은품이 지급되며, 퇴직연금 특별이익 제공한도 초과 고객은 쿠폰이 지급되지 않을 수 있습니다.경품 당첨자 발표는 KB스타뱅킹 앱 > 생활/혜택 > 이벤트 > 응모/당첨확인 > 당첨된 이벤트 보기에 공지됩니다.본 이벤트는 KB국민은행의 사정으로 변경 또는 중단될 수 있습니다. (단, 기 조건 충족고객 및 당첨고객 제외)투자자는 퇴직연금에 대하여 은행으로부터 충분한 설명을 받을 권리가 있으며, 가입 전 상품설명서 및 약관을 반드시 읽어보시기 바랍니다.이 퇴직연금은 예금보호대상 금융상품으로 운용되는 적립금에 한하여 예금자보호법에 따라 예금보험공사가 보호하되, 보호 한도는 귀하의 다른 예금보호 대상 금융상품과는 별도로 1인당 “최고 5천만원”이며, 5천만원을 초과하는 나머지 금액은 보호하지 않습니다.과세기준 및 과세방법은 향후 세법개정 등에 따라 변동될 수 있습니다.연금수령요건을 갖추지 못하고 중도해지하거나 계약기간 종료 후 연금 이외의 형태로 수령하는 경우 세액공제 받은 납입원금 및 수익에 대해 기타소득세(16.5%)세율이 부과될 수 있습니다.보수(수수료)는 상품별로 다르게 부과될 수 있습니다.개인형IRP 수수료 연0.21%~0.45%, DC(가입자부담금) 수수료 연0.40%, 기업형IRP(가입자부담금) 수수료 연0.40%본 광고물은 이벤트 관련 홍보물이며 상품 가입 전 자세한 내용은 상품설명서 및 약관을 반드시 확인하시기 바랍니다.기타 자세한 이벤트 내용은 영업점 직원 또는 고객센터(☎1588-9999)로 문의하시거나 KB국민은행 홈페이지(www.kbstar.com)를 참조하시기 바랍니다.본 광고물에 대한 유효기간 2022.10.19까지준법감시인 심의필 제2022-2542-1호(2022.08.10)',\n",
              "  'event_img': \"['https://oimg1.kbstar.com/img/oevent/2022/0812_KBrp/event_visual.jpg', 'https://oimg1.kbstar.com/img/oevent/2022/0812_KBrp/event_cont_01.jpg', 'https://oimg1.kbstar.com/img/oevent/2022/0812_KBrp/event_cont_02.jpg']\",\n",
              "  'event_img_ocr': '     '}]"
            ]
          },
          "execution_count": 137,
          "metadata": {},
          "output_type": "execute_result"
        }
      ],
      "source": [
        "answer"
      ]
    },
    {
      "cell_type": "code",
      "execution_count": 117,
      "id": "26f6a163-1820-4350-95b4-334eb2f14fbb",
      "metadata": {
        "id": "26f6a163-1820-4350-95b4-334eb2f14fbb"
      },
      "outputs": [],
      "source": []
    }
  ],
  "metadata": {
    "colab": {
      "provenance": []
    },
    "kernelspec": {
      "display_name": "Python 3 (ipykernel)",
      "language": "python",
      "name": "python3"
    },
    "language_info": {
      "codemirror_mode": {
        "name": "ipython",
        "version": 3
      },
      "file_extension": ".py",
      "mimetype": "text/x-python",
      "name": "python",
      "nbconvert_exporter": "python",
      "pygments_lexer": "ipython3",
      "version": "3.9.16"
    }
  },
  "nbformat": 4,
  "nbformat_minor": 5
}
